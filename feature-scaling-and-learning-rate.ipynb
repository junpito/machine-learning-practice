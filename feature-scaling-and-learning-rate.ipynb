{
 "cells": [
  {
   "cell_type": "code",
   "execution_count": 1,
   "id": "c5c7406d",
   "metadata": {
    "_cell_guid": "b1076dfc-b9ad-4769-8c92-a6c4dae69d19",
    "_kg_hide-input": true,
    "_kg_hide-output": true,
    "_uuid": "8f2839f25d086af736a60e9eeb907d3b93b6e0e5",
    "execution": {
     "iopub.execute_input": "2023-04-05T14:32:32.031050Z",
     "iopub.status.busy": "2023-04-05T14:32:32.030503Z",
     "iopub.status.idle": "2023-04-05T14:32:32.051720Z",
     "shell.execute_reply": "2023-04-05T14:32:32.049608Z"
    },
    "papermill": {
     "duration": 0.036223,
     "end_time": "2023-04-05T14:32:32.054819",
     "exception": false,
     "start_time": "2023-04-05T14:32:32.018596",
     "status": "completed"
    },
    "tags": []
   },
   "outputs": [
    {
     "name": "stdout",
     "output_type": "stream",
     "text": [
      "/kaggle/input/simple-linear-regression/kc_house_data.csv\n"
     ]
    }
   ],
   "source": [
    "# This Python 3 environment comes with many helpful analytics libraries installed\n",
    "# It is defined by the kaggle/python Docker image: https://github.com/kaggle/docker-python\n",
    "# For example, here's several helpful packages to load\n",
    "\n",
    "import numpy as np # linear algebra\n",
    "import pandas as pd # data processing, CSV file I/O (e.g. pd.read_csv)\n",
    "\n",
    "# Input data files are available in the read-only \"../input/\" directory\n",
    "# For example, running this (by clicking run or pressing Shift+Enter) will list all files under the input directory\n",
    "\n",
    "import os\n",
    "for dirname, _, filenames in os.walk('/kaggle/input'):\n",
    "    for filename in filenames:\n",
    "        print(os.path.join(dirname, filename))\n",
    "\n",
    "# You can write up to 20GB to the current directory (/kaggle/working/) that gets preserved as output when you create a version using \"Save & Run All\" \n",
    "# You can also write temporary files to /kaggle/temp/, but they won't be saved outside of the current session"
   ]
  },
  {
   "cell_type": "markdown",
   "id": "5283f7a1",
   "metadata": {
    "papermill": {
     "duration": 0.009793,
     "end_time": "2023-04-05T14:32:32.073844",
     "exception": false,
     "start_time": "2023-04-05T14:32:32.064051",
     "status": "completed"
    },
    "tags": []
   },
   "source": [
    "# Practice Lab: Linear Regression\n",
    "\n",
    "Welcome to your first practice lab! In this lab, you will implement linear regression with one variable to predict profits for a restaurant franchise.\n",
    "\n",
    "\n",
    "# Outline\n",
    "- [ 1 - Packages ](#1)\n",
    "- [ 2 - Linear regression with one variable ](#2)\n",
    "  - [ 2.1 Problem Statement](#2.1)\n",
    "  - [ 2.2  Dataset](#2.2)\n",
    "  - [ 2.3 Refresher on linear regression](#2.3)\n",
    "  - [ 2.4  Compute Cost](#2.4)\n",
    "    - [ Exercise 1](#ex01)\n",
    "  - [ 2.5 Gradient descent ](#2.5)\n",
    "    - [ Exercise 2](#ex02)\n",
    "  - [ 2.6 Learning parameters using batch gradient descent ](#2.6)"
   ]
  },
  {
   "cell_type": "markdown",
   "id": "c98e39c5",
   "metadata": {
    "papermill": {
     "duration": 0.008511,
     "end_time": "2023-04-05T14:32:32.091606",
     "exception": false,
     "start_time": "2023-04-05T14:32:32.083095",
     "status": "completed"
    },
    "tags": []
   },
   "source": [
    "<a name=\"1\"></a>\n",
    "## 1 - Packages \n",
    "\n",
    "First, let's run the cell below to import all the packages that you will need during this assignment.\n",
    "- [numpy](www.numpy.org) is the fundamental package for working with matrices in Python.\n",
    "- [matplotlib](http://matplotlib.org) is a famous library to plot graphs in Python.\n",
    "- ``utils.py`` contains helper functions for this assignment. You do not need to modify code in this file.\n"
   ]
  },
  {
   "cell_type": "code",
   "execution_count": 2,
   "id": "c0040b9f",
   "metadata": {
    "execution": {
     "iopub.execute_input": "2023-04-05T14:32:32.111804Z",
     "iopub.status.busy": "2023-04-05T14:32:32.111332Z",
     "iopub.status.idle": "2023-04-05T14:32:32.118637Z",
     "shell.execute_reply": "2023-04-05T14:32:32.117624Z"
    },
    "papermill": {
     "duration": 0.020299,
     "end_time": "2023-04-05T14:32:32.121087",
     "exception": false,
     "start_time": "2023-04-05T14:32:32.100788",
     "status": "completed"
    },
    "tags": []
   },
   "outputs": [],
   "source": [
    "import numpy as np\n",
    "import matplotlib.pyplot as plt\n",
    "#from utils import *\n",
    "import copy\n",
    "import math\n",
    "%matplotlib inline"
   ]
  },
  {
   "cell_type": "markdown",
   "id": "6993dd28",
   "metadata": {
    "papermill": {
     "duration": 0.008524,
     "end_time": "2023-04-05T14:32:32.138685",
     "exception": false,
     "start_time": "2023-04-05T14:32:32.130161",
     "status": "completed"
    },
    "tags": []
   },
   "source": [
    "## 2 -  Problem Statement\n",
    "\n",
    "Suppose you are the CEO of a restaurant franchise and are considering different cities for opening a new outlet.\n",
    "- You would like to expand your business to cities that may give your restaurant higher profits.\n",
    "- The chain already has restaurants in various cities and you have data for profits and populations from the cities.\n",
    "- You also have data on cities that are candidates for a new restaurant. \n",
    "    - For these cities, you have the city population.\n",
    "    \n",
    "Can you use the data to help you identify which cities may potentially give your business higher profits?\n",
    "\n",
    "## 3 - Dataset\n",
    "\n",
    "You will start by loading the dataset for this task. \n",
    "- The `load_data()` function shown below loads the data into variables `x_train` and `y_train`\n",
    "  - `x_train` is the population of a city\n",
    "  - `y_train` is the profit of a restaurant in that city. A negative value for profit indicates a loss.   \n",
    "  - Both `X_train` and `y_train` are numpy arrays."
   ]
  },
  {
   "cell_type": "code",
   "execution_count": 3,
   "id": "85b8c942",
   "metadata": {
    "execution": {
     "iopub.execute_input": "2023-04-05T14:32:32.158136Z",
     "iopub.status.busy": "2023-04-05T14:32:32.157715Z",
     "iopub.status.idle": "2023-04-05T14:32:32.306971Z",
     "shell.execute_reply": "2023-04-05T14:32:32.305627Z"
    },
    "papermill": {
     "duration": 0.162326,
     "end_time": "2023-04-05T14:32:32.309803",
     "exception": false,
     "start_time": "2023-04-05T14:32:32.147477",
     "status": "completed"
    },
    "tags": []
   },
   "outputs": [
    {
     "data": {
      "text/html": [
       "<div>\n",
       "<style scoped>\n",
       "    .dataframe tbody tr th:only-of-type {\n",
       "        vertical-align: middle;\n",
       "    }\n",
       "\n",
       "    .dataframe tbody tr th {\n",
       "        vertical-align: top;\n",
       "    }\n",
       "\n",
       "    .dataframe thead th {\n",
       "        text-align: right;\n",
       "    }\n",
       "</style>\n",
       "<table border=\"1\" class=\"dataframe\">\n",
       "  <thead>\n",
       "    <tr style=\"text-align: right;\">\n",
       "      <th></th>\n",
       "      <th>id</th>\n",
       "      <th>date</th>\n",
       "      <th>price</th>\n",
       "      <th>bedrooms</th>\n",
       "      <th>bathrooms</th>\n",
       "      <th>sqft_living</th>\n",
       "      <th>sqft_lot</th>\n",
       "      <th>floors</th>\n",
       "      <th>waterfront</th>\n",
       "      <th>view</th>\n",
       "      <th>...</th>\n",
       "      <th>grade</th>\n",
       "      <th>sqft_above</th>\n",
       "      <th>sqft_basement</th>\n",
       "      <th>yr_built</th>\n",
       "      <th>yr_renovated</th>\n",
       "      <th>zipcode</th>\n",
       "      <th>lat</th>\n",
       "      <th>long</th>\n",
       "      <th>sqft_living15</th>\n",
       "      <th>sqft_lot15</th>\n",
       "    </tr>\n",
       "  </thead>\n",
       "  <tbody>\n",
       "    <tr>\n",
       "      <th>0</th>\n",
       "      <td>7129300520</td>\n",
       "      <td>20141013T000000</td>\n",
       "      <td>221900.0</td>\n",
       "      <td>3</td>\n",
       "      <td>1.00</td>\n",
       "      <td>1180</td>\n",
       "      <td>5650</td>\n",
       "      <td>1.0</td>\n",
       "      <td>0</td>\n",
       "      <td>0</td>\n",
       "      <td>...</td>\n",
       "      <td>7</td>\n",
       "      <td>1180</td>\n",
       "      <td>0</td>\n",
       "      <td>1955</td>\n",
       "      <td>0</td>\n",
       "      <td>98178</td>\n",
       "      <td>47.5112</td>\n",
       "      <td>-122.257</td>\n",
       "      <td>1340</td>\n",
       "      <td>5650</td>\n",
       "    </tr>\n",
       "    <tr>\n",
       "      <th>1</th>\n",
       "      <td>6414100192</td>\n",
       "      <td>20141209T000000</td>\n",
       "      <td>538000.0</td>\n",
       "      <td>3</td>\n",
       "      <td>2.25</td>\n",
       "      <td>2570</td>\n",
       "      <td>7242</td>\n",
       "      <td>2.0</td>\n",
       "      <td>0</td>\n",
       "      <td>0</td>\n",
       "      <td>...</td>\n",
       "      <td>7</td>\n",
       "      <td>2170</td>\n",
       "      <td>400</td>\n",
       "      <td>1951</td>\n",
       "      <td>1991</td>\n",
       "      <td>98125</td>\n",
       "      <td>47.7210</td>\n",
       "      <td>-122.319</td>\n",
       "      <td>1690</td>\n",
       "      <td>7639</td>\n",
       "    </tr>\n",
       "    <tr>\n",
       "      <th>2</th>\n",
       "      <td>5631500400</td>\n",
       "      <td>20150225T000000</td>\n",
       "      <td>180000.0</td>\n",
       "      <td>2</td>\n",
       "      <td>1.00</td>\n",
       "      <td>770</td>\n",
       "      <td>10000</td>\n",
       "      <td>1.0</td>\n",
       "      <td>0</td>\n",
       "      <td>0</td>\n",
       "      <td>...</td>\n",
       "      <td>6</td>\n",
       "      <td>770</td>\n",
       "      <td>0</td>\n",
       "      <td>1933</td>\n",
       "      <td>0</td>\n",
       "      <td>98028</td>\n",
       "      <td>47.7379</td>\n",
       "      <td>-122.233</td>\n",
       "      <td>2720</td>\n",
       "      <td>8062</td>\n",
       "    </tr>\n",
       "    <tr>\n",
       "      <th>3</th>\n",
       "      <td>2487200875</td>\n",
       "      <td>20141209T000000</td>\n",
       "      <td>604000.0</td>\n",
       "      <td>4</td>\n",
       "      <td>3.00</td>\n",
       "      <td>1960</td>\n",
       "      <td>5000</td>\n",
       "      <td>1.0</td>\n",
       "      <td>0</td>\n",
       "      <td>0</td>\n",
       "      <td>...</td>\n",
       "      <td>7</td>\n",
       "      <td>1050</td>\n",
       "      <td>910</td>\n",
       "      <td>1965</td>\n",
       "      <td>0</td>\n",
       "      <td>98136</td>\n",
       "      <td>47.5208</td>\n",
       "      <td>-122.393</td>\n",
       "      <td>1360</td>\n",
       "      <td>5000</td>\n",
       "    </tr>\n",
       "    <tr>\n",
       "      <th>4</th>\n",
       "      <td>1954400510</td>\n",
       "      <td>20150218T000000</td>\n",
       "      <td>510000.0</td>\n",
       "      <td>3</td>\n",
       "      <td>2.00</td>\n",
       "      <td>1680</td>\n",
       "      <td>8080</td>\n",
       "      <td>1.0</td>\n",
       "      <td>0</td>\n",
       "      <td>0</td>\n",
       "      <td>...</td>\n",
       "      <td>8</td>\n",
       "      <td>1680</td>\n",
       "      <td>0</td>\n",
       "      <td>1987</td>\n",
       "      <td>0</td>\n",
       "      <td>98074</td>\n",
       "      <td>47.6168</td>\n",
       "      <td>-122.045</td>\n",
       "      <td>1800</td>\n",
       "      <td>7503</td>\n",
       "    </tr>\n",
       "  </tbody>\n",
       "</table>\n",
       "<p>5 rows × 21 columns</p>\n",
       "</div>"
      ],
      "text/plain": [
       "           id             date     price  bedrooms  bathrooms  sqft_living  \\\n",
       "0  7129300520  20141013T000000  221900.0         3       1.00         1180   \n",
       "1  6414100192  20141209T000000  538000.0         3       2.25         2570   \n",
       "2  5631500400  20150225T000000  180000.0         2       1.00          770   \n",
       "3  2487200875  20141209T000000  604000.0         4       3.00         1960   \n",
       "4  1954400510  20150218T000000  510000.0         3       2.00         1680   \n",
       "\n",
       "   sqft_lot  floors  waterfront  view  ...  grade  sqft_above  sqft_basement  \\\n",
       "0      5650     1.0           0     0  ...      7        1180              0   \n",
       "1      7242     2.0           0     0  ...      7        2170            400   \n",
       "2     10000     1.0           0     0  ...      6         770              0   \n",
       "3      5000     1.0           0     0  ...      7        1050            910   \n",
       "4      8080     1.0           0     0  ...      8        1680              0   \n",
       "\n",
       "   yr_built  yr_renovated  zipcode      lat     long  sqft_living15  \\\n",
       "0      1955             0    98178  47.5112 -122.257           1340   \n",
       "1      1951          1991    98125  47.7210 -122.319           1690   \n",
       "2      1933             0    98028  47.7379 -122.233           2720   \n",
       "3      1965             0    98136  47.5208 -122.393           1360   \n",
       "4      1987             0    98074  47.6168 -122.045           1800   \n",
       "\n",
       "   sqft_lot15  \n",
       "0        5650  \n",
       "1        7639  \n",
       "2        8062  \n",
       "3        5000  \n",
       "4        7503  \n",
       "\n",
       "[5 rows x 21 columns]"
      ]
     },
     "execution_count": 3,
     "metadata": {},
     "output_type": "execute_result"
    }
   ],
   "source": [
    "#load the dataset \n",
    "df = pd.read_csv('/kaggle/input/simple-linear-regression/kc_house_data.csv')\n",
    "df.head()\n"
   ]
  },
  {
   "cell_type": "code",
   "execution_count": 4,
   "id": "9ec4b78e",
   "metadata": {
    "execution": {
     "iopub.execute_input": "2023-04-05T14:32:32.330586Z",
     "iopub.status.busy": "2023-04-05T14:32:32.329586Z",
     "iopub.status.idle": "2023-04-05T14:32:32.355059Z",
     "shell.execute_reply": "2023-04-05T14:32:32.353990Z"
    },
    "papermill": {
     "duration": 0.038875,
     "end_time": "2023-04-05T14:32:32.357917",
     "exception": false,
     "start_time": "2023-04-05T14:32:32.319042",
     "status": "completed"
    },
    "tags": []
   },
   "outputs": [
    {
     "data": {
      "text/html": [
       "<div>\n",
       "<style scoped>\n",
       "    .dataframe tbody tr th:only-of-type {\n",
       "        vertical-align: middle;\n",
       "    }\n",
       "\n",
       "    .dataframe tbody tr th {\n",
       "        vertical-align: top;\n",
       "    }\n",
       "\n",
       "    .dataframe thead th {\n",
       "        text-align: right;\n",
       "    }\n",
       "</style>\n",
       "<table border=\"1\" class=\"dataframe\">\n",
       "  <thead>\n",
       "    <tr style=\"text-align: right;\">\n",
       "      <th></th>\n",
       "      <th>id</th>\n",
       "      <th>date</th>\n",
       "      <th>price</th>\n",
       "      <th>bedrooms</th>\n",
       "      <th>bathrooms</th>\n",
       "      <th>sqft_living</th>\n",
       "      <th>sqft_lot</th>\n",
       "      <th>floors</th>\n",
       "      <th>waterfront</th>\n",
       "      <th>view</th>\n",
       "      <th>...</th>\n",
       "      <th>grade</th>\n",
       "      <th>sqft_above</th>\n",
       "      <th>sqft_basement</th>\n",
       "      <th>yr_built</th>\n",
       "      <th>yr_renovated</th>\n",
       "      <th>zipcode</th>\n",
       "      <th>lat</th>\n",
       "      <th>long</th>\n",
       "      <th>sqft_living15</th>\n",
       "      <th>sqft_lot15</th>\n",
       "    </tr>\n",
       "  </thead>\n",
       "  <tbody>\n",
       "    <tr>\n",
       "      <th>21608</th>\n",
       "      <td>263000018</td>\n",
       "      <td>20140521T000000</td>\n",
       "      <td>360000.0</td>\n",
       "      <td>3</td>\n",
       "      <td>2.50</td>\n",
       "      <td>1530</td>\n",
       "      <td>1131</td>\n",
       "      <td>3.0</td>\n",
       "      <td>0</td>\n",
       "      <td>0</td>\n",
       "      <td>...</td>\n",
       "      <td>8</td>\n",
       "      <td>1530</td>\n",
       "      <td>0</td>\n",
       "      <td>2009</td>\n",
       "      <td>0</td>\n",
       "      <td>98103</td>\n",
       "      <td>47.6993</td>\n",
       "      <td>-122.346</td>\n",
       "      <td>1530</td>\n",
       "      <td>1509</td>\n",
       "    </tr>\n",
       "    <tr>\n",
       "      <th>21609</th>\n",
       "      <td>6600060120</td>\n",
       "      <td>20150223T000000</td>\n",
       "      <td>400000.0</td>\n",
       "      <td>4</td>\n",
       "      <td>2.50</td>\n",
       "      <td>2310</td>\n",
       "      <td>5813</td>\n",
       "      <td>2.0</td>\n",
       "      <td>0</td>\n",
       "      <td>0</td>\n",
       "      <td>...</td>\n",
       "      <td>8</td>\n",
       "      <td>2310</td>\n",
       "      <td>0</td>\n",
       "      <td>2014</td>\n",
       "      <td>0</td>\n",
       "      <td>98146</td>\n",
       "      <td>47.5107</td>\n",
       "      <td>-122.362</td>\n",
       "      <td>1830</td>\n",
       "      <td>7200</td>\n",
       "    </tr>\n",
       "    <tr>\n",
       "      <th>21610</th>\n",
       "      <td>1523300141</td>\n",
       "      <td>20140623T000000</td>\n",
       "      <td>402101.0</td>\n",
       "      <td>2</td>\n",
       "      <td>0.75</td>\n",
       "      <td>1020</td>\n",
       "      <td>1350</td>\n",
       "      <td>2.0</td>\n",
       "      <td>0</td>\n",
       "      <td>0</td>\n",
       "      <td>...</td>\n",
       "      <td>7</td>\n",
       "      <td>1020</td>\n",
       "      <td>0</td>\n",
       "      <td>2009</td>\n",
       "      <td>0</td>\n",
       "      <td>98144</td>\n",
       "      <td>47.5944</td>\n",
       "      <td>-122.299</td>\n",
       "      <td>1020</td>\n",
       "      <td>2007</td>\n",
       "    </tr>\n",
       "    <tr>\n",
       "      <th>21611</th>\n",
       "      <td>291310100</td>\n",
       "      <td>20150116T000000</td>\n",
       "      <td>400000.0</td>\n",
       "      <td>3</td>\n",
       "      <td>2.50</td>\n",
       "      <td>1600</td>\n",
       "      <td>2388</td>\n",
       "      <td>2.0</td>\n",
       "      <td>0</td>\n",
       "      <td>0</td>\n",
       "      <td>...</td>\n",
       "      <td>8</td>\n",
       "      <td>1600</td>\n",
       "      <td>0</td>\n",
       "      <td>2004</td>\n",
       "      <td>0</td>\n",
       "      <td>98027</td>\n",
       "      <td>47.5345</td>\n",
       "      <td>-122.069</td>\n",
       "      <td>1410</td>\n",
       "      <td>1287</td>\n",
       "    </tr>\n",
       "    <tr>\n",
       "      <th>21612</th>\n",
       "      <td>1523300157</td>\n",
       "      <td>20141015T000000</td>\n",
       "      <td>325000.0</td>\n",
       "      <td>2</td>\n",
       "      <td>0.75</td>\n",
       "      <td>1020</td>\n",
       "      <td>1076</td>\n",
       "      <td>2.0</td>\n",
       "      <td>0</td>\n",
       "      <td>0</td>\n",
       "      <td>...</td>\n",
       "      <td>7</td>\n",
       "      <td>1020</td>\n",
       "      <td>0</td>\n",
       "      <td>2008</td>\n",
       "      <td>0</td>\n",
       "      <td>98144</td>\n",
       "      <td>47.5941</td>\n",
       "      <td>-122.299</td>\n",
       "      <td>1020</td>\n",
       "      <td>1357</td>\n",
       "    </tr>\n",
       "  </tbody>\n",
       "</table>\n",
       "<p>5 rows × 21 columns</p>\n",
       "</div>"
      ],
      "text/plain": [
       "               id             date     price  bedrooms  bathrooms  \\\n",
       "21608   263000018  20140521T000000  360000.0         3       2.50   \n",
       "21609  6600060120  20150223T000000  400000.0         4       2.50   \n",
       "21610  1523300141  20140623T000000  402101.0         2       0.75   \n",
       "21611   291310100  20150116T000000  400000.0         3       2.50   \n",
       "21612  1523300157  20141015T000000  325000.0         2       0.75   \n",
       "\n",
       "       sqft_living  sqft_lot  floors  waterfront  view  ...  grade  \\\n",
       "21608         1530      1131     3.0           0     0  ...      8   \n",
       "21609         2310      5813     2.0           0     0  ...      8   \n",
       "21610         1020      1350     2.0           0     0  ...      7   \n",
       "21611         1600      2388     2.0           0     0  ...      8   \n",
       "21612         1020      1076     2.0           0     0  ...      7   \n",
       "\n",
       "       sqft_above  sqft_basement  yr_built  yr_renovated  zipcode      lat  \\\n",
       "21608        1530              0      2009             0    98103  47.6993   \n",
       "21609        2310              0      2014             0    98146  47.5107   \n",
       "21610        1020              0      2009             0    98144  47.5944   \n",
       "21611        1600              0      2004             0    98027  47.5345   \n",
       "21612        1020              0      2008             0    98144  47.5941   \n",
       "\n",
       "          long  sqft_living15  sqft_lot15  \n",
       "21608 -122.346           1530        1509  \n",
       "21609 -122.362           1830        7200  \n",
       "21610 -122.299           1020        2007  \n",
       "21611 -122.069           1410        1287  \n",
       "21612 -122.299           1020        1357  \n",
       "\n",
       "[5 rows x 21 columns]"
      ]
     },
     "execution_count": 4,
     "metadata": {},
     "output_type": "execute_result"
    }
   ],
   "source": [
    "df.tail()"
   ]
  },
  {
   "cell_type": "code",
   "execution_count": 5,
   "id": "083e48cf",
   "metadata": {
    "execution": {
     "iopub.execute_input": "2023-04-05T14:32:32.380358Z",
     "iopub.status.busy": "2023-04-05T14:32:32.379549Z",
     "iopub.status.idle": "2023-04-05T14:32:32.387761Z",
     "shell.execute_reply": "2023-04-05T14:32:32.386171Z"
    },
    "papermill": {
     "duration": 0.022105,
     "end_time": "2023-04-05T14:32:32.390480",
     "exception": false,
     "start_time": "2023-04-05T14:32:32.368375",
     "status": "completed"
    },
    "tags": []
   },
   "outputs": [
    {
     "data": {
      "text/plain": [
       "Index(['id', 'date', 'price', 'bedrooms', 'bathrooms', 'sqft_living',\n",
       "       'sqft_lot', 'floors', 'waterfront', 'view', 'condition', 'grade',\n",
       "       'sqft_above', 'sqft_basement', 'yr_built', 'yr_renovated', 'zipcode',\n",
       "       'lat', 'long', 'sqft_living15', 'sqft_lot15'],\n",
       "      dtype='object')"
      ]
     },
     "execution_count": 5,
     "metadata": {},
     "output_type": "execute_result"
    }
   ],
   "source": [
    "df.columns"
   ]
  },
  {
   "cell_type": "code",
   "execution_count": 6,
   "id": "19cd3e3d",
   "metadata": {
    "execution": {
     "iopub.execute_input": "2023-04-05T14:32:32.411364Z",
     "iopub.status.busy": "2023-04-05T14:32:32.410963Z",
     "iopub.status.idle": "2023-04-05T14:32:32.419398Z",
     "shell.execute_reply": "2023-04-05T14:32:32.417842Z"
    },
    "papermill": {
     "duration": 0.021979,
     "end_time": "2023-04-05T14:32:32.421957",
     "exception": false,
     "start_time": "2023-04-05T14:32:32.399978",
     "status": "completed"
    },
    "tags": []
   },
   "outputs": [],
   "source": [
    "x_train = df['sqft_living'].values\n",
    "y_train = df['price'].values"
   ]
  },
  {
   "cell_type": "code",
   "execution_count": 7,
   "id": "02632eeb",
   "metadata": {
    "execution": {
     "iopub.execute_input": "2023-04-05T14:32:32.443363Z",
     "iopub.status.busy": "2023-04-05T14:32:32.442544Z",
     "iopub.status.idle": "2023-04-05T14:32:32.449233Z",
     "shell.execute_reply": "2023-04-05T14:32:32.447750Z"
    },
    "papermill": {
     "duration": 0.020227,
     "end_time": "2023-04-05T14:32:32.451760",
     "exception": false,
     "start_time": "2023-04-05T14:32:32.431533",
     "status": "completed"
    },
    "tags": []
   },
   "outputs": [
    {
     "name": "stdout",
     "output_type": "stream",
     "text": [
      "Type of x_train: <class 'numpy.ndarray'>\n",
      "First five elements of x_train are:\n",
      " [1180 2570  770 1960 1680]\n"
     ]
    }
   ],
   "source": [
    "# print x_train\n",
    "print(\"Type of x_train:\",type(x_train))\n",
    "print(\"First five elements of x_train are:\\n\", x_train[:5]) "
   ]
  },
  {
   "cell_type": "markdown",
   "id": "47de495e",
   "metadata": {
    "papermill": {
     "duration": 0.009292,
     "end_time": "2023-04-05T14:32:32.471909",
     "exception": false,
     "start_time": "2023-04-05T14:32:32.462617",
     "status": "completed"
    },
    "tags": []
   },
   "source": [
    "`x_train` is a numpy array that contains decimal values that are all greater than zero.\n",
    "- These values represent the city population times 10,000\n",
    "- For example, 6.1101 means that the population for that city is 61,101\n",
    "  \n",
    "Now, let's print `y_train`"
   ]
  },
  {
   "cell_type": "code",
   "execution_count": 8,
   "id": "f30e4106",
   "metadata": {
    "execution": {
     "iopub.execute_input": "2023-04-05T14:32:32.493670Z",
     "iopub.status.busy": "2023-04-05T14:32:32.492816Z",
     "iopub.status.idle": "2023-04-05T14:32:32.499825Z",
     "shell.execute_reply": "2023-04-05T14:32:32.498273Z"
    },
    "papermill": {
     "duration": 0.020864,
     "end_time": "2023-04-05T14:32:32.502328",
     "exception": false,
     "start_time": "2023-04-05T14:32:32.481464",
     "status": "completed"
    },
    "tags": []
   },
   "outputs": [
    {
     "name": "stdout",
     "output_type": "stream",
     "text": [
      "Type of y_train: <class 'numpy.ndarray'>\n",
      "First five elements of y_train are:\n",
      " [221900. 538000. 180000. 604000. 510000.]\n"
     ]
    }
   ],
   "source": [
    "# print y_train\n",
    "print(\"Type of y_train:\",type(y_train))\n",
    "print(\"First five elements of y_train are:\\n\", y_train[:5])  "
   ]
  },
  {
   "cell_type": "markdown",
   "id": "0bae4210",
   "metadata": {
    "papermill": {
     "duration": 0.009516,
     "end_time": "2023-04-05T14:32:32.521673",
     "exception": false,
     "start_time": "2023-04-05T14:32:32.512157",
     "status": "completed"
    },
    "tags": []
   },
   "source": [
    "Similarly, `y_train` is a numpy array that has decimal values, some negative, some positive.\n",
    "- These represent your restaurant's average monthly profits in each city, in units of \\$10,000.\n",
    "  - For example, 17.592 represents \\$175,920 in average monthly profits for that city.\n",
    "  - -2.6807 represents -\\$26,807 in average monthly loss for that city."
   ]
  },
  {
   "cell_type": "markdown",
   "id": "de43f1ed",
   "metadata": {
    "papermill": {
     "duration": 0.009408,
     "end_time": "2023-04-05T14:32:32.540939",
     "exception": false,
     "start_time": "2023-04-05T14:32:32.531531",
     "status": "completed"
    },
    "tags": []
   },
   "source": [
    "#### Check the dimensions of your variables\n",
    "\n",
    "Another useful way to get familiar with your data is to view its dimensions.\n",
    "\n",
    "Please print the shape of `x_train` and `y_train` and see how many training examples you have in your dataset."
   ]
  },
  {
   "cell_type": "code",
   "execution_count": 9,
   "id": "51d6cda8",
   "metadata": {
    "execution": {
     "iopub.execute_input": "2023-04-05T14:32:32.562745Z",
     "iopub.status.busy": "2023-04-05T14:32:32.562227Z",
     "iopub.status.idle": "2023-04-05T14:32:32.569163Z",
     "shell.execute_reply": "2023-04-05T14:32:32.567732Z"
    },
    "papermill": {
     "duration": 0.021126,
     "end_time": "2023-04-05T14:32:32.571710",
     "exception": false,
     "start_time": "2023-04-05T14:32:32.550584",
     "status": "completed"
    },
    "tags": []
   },
   "outputs": [
    {
     "name": "stdout",
     "output_type": "stream",
     "text": [
      "The shape of x_train is: (21613,)\n",
      "The shape of y_train is:  (21613,)\n",
      "Number of training examples (m): 21613\n"
     ]
    }
   ],
   "source": [
    "print ('The shape of x_train is:', x_train.shape)\n",
    "print ('The shape of y_train is: ', y_train.shape)\n",
    "print ('Number of training examples (m):', len(x_train))"
   ]
  },
  {
   "cell_type": "markdown",
   "id": "bf95d8ff",
   "metadata": {
    "papermill": {
     "duration": 0.009387,
     "end_time": "2023-04-05T14:32:32.590953",
     "exception": false,
     "start_time": "2023-04-05T14:32:32.581566",
     "status": "completed"
    },
    "tags": []
   },
   "source": [
    "#### Visualize your data\n",
    "\n",
    "It is often useful to understand the data by visualizing it. \n",
    "- For this dataset, you can use a scatter plot to visualize the data, since it has only two properties to plot (profit and population). \n",
    "- Many other problems that you will encounter in real life have more than two properties (for example, population, average household income, monthly profits, monthly sales).When you have more than two properties, you can still use a scatter plot to see the relationship between each pair of properties.\n"
   ]
  },
  {
   "cell_type": "code",
   "execution_count": 10,
   "id": "f117acd0",
   "metadata": {
    "execution": {
     "iopub.execute_input": "2023-04-05T14:32:32.612543Z",
     "iopub.status.busy": "2023-04-05T14:32:32.612077Z",
     "iopub.status.idle": "2023-04-05T14:32:32.910476Z",
     "shell.execute_reply": "2023-04-05T14:32:32.909014Z"
    },
    "papermill": {
     "duration": 0.312668,
     "end_time": "2023-04-05T14:32:32.913319",
     "exception": false,
     "start_time": "2023-04-05T14:32:32.600651",
     "status": "completed"
    },
    "tags": []
   },
   "outputs": [
    {
     "data": {
      "image/png": "[encoded data removed]",
      "text/plain": [
       "<Figure size 640x480 with 1 Axes>"
      ]
     },
     "metadata": {},
     "output_type": "display_data"
    }
   ],
   "source": [
    "# Create a scatter plot of the data. To change the markers to red \"x\",\n",
    "# we used the 'marker' and 'c' parameters\n",
    "plt.scatter(x_train, y_train, marker='x', c='r') \n",
    "\n",
    "# Set the title\n",
    "plt.title(\"Price vs. squarefeet of livingroom\")\n",
    "# Set the y-axis label\n",
    "plt.ylabel('Price $10,000')\n",
    "# Set the x-axis label\n",
    "plt.xlabel('sqft_living')\n",
    "plt.show()"
   ]
  },
  {
   "cell_type": "markdown",
   "id": "6d5cd6f8",
   "metadata": {
    "papermill": {
     "duration": 0.010203,
     "end_time": "2023-04-05T14:32:32.934031",
     "exception": false,
     "start_time": "2023-04-05T14:32:32.923828",
     "status": "completed"
    },
    "tags": []
   },
   "source": [
    "Your goal is to build a linear regression model to fit this data."
   ]
  },
  {
   "cell_type": "markdown",
   "id": "7786d7b0",
   "metadata": {
    "papermill": {
     "duration": 0.010286,
     "end_time": "2023-04-05T14:32:32.955470",
     "exception": false,
     "start_time": "2023-04-05T14:32:32.945184",
     "status": "completed"
    },
    "tags": []
   },
   "source": [
    "<a name=\"4\"></a>\n",
    "## 4 - Refresher on linear regression\n",
    "\n",
    "In this practice lab, you will fit the linear regression parameters $(w,b)$ to your dataset.\n",
    "- The model function for linear regression, which is a function that maps from `x` (city population) to `y` (your restaurant's monthly profit for that city) is represented as \n",
    "    $$f_{w,b}(x) = wx + b$$\n",
    "    \n",
    "\n",
    "- To train a linear regression model, you want to find the best $(w,b)$ parameters that fit your dataset.  \n",
    "\n",
    "    - To compare how one choice of $(w,b)$ is better or worse than another choice, you can evaluate it with a cost function $J(w,b)$\n",
    "      - $J$ is a function of $(w,b)$. That is, the value of the cost $J(w,b)$ depends on the value of $(w,b)$.\n",
    "  \n",
    "    - The choice of $(w,b)$ that fits your data the best is the one that has the smallest cost $J(w,b)$.\n",
    "\n",
    "\n",
    "- To find the values $(w,b)$ that gets the smallest possible cost $J(w,b)$, you can use a method called **gradient descent**. \n",
    "  - With each step of gradient descent, your parameters $(w,b)$ come closer to the optimal values that will achieve the lowest cost $J(w,b)$.\n",
    "  \n",
    "\n",
    "- The trained linear regression model can then take the input feature $x$ (city population) and output a prediction $f_{w,b}(x)$ (predicted monthly profit for a restaurant in that city)."
   ]
  },
  {
   "cell_type": "markdown",
   "id": "112923c8",
   "metadata": {
    "papermill": {
     "duration": 0.010112,
     "end_time": "2023-04-05T14:32:32.976038",
     "exception": false,
     "start_time": "2023-04-05T14:32:32.965926",
     "status": "completed"
    },
    "tags": []
   },
   "source": [
    "<a name=\"5\"></a>\n",
    "## 5 - Compute Cost\n",
    "\n",
    "Gradient descent involves repeated steps to adjust the value of your parameter $(w,b)$ to gradually get a smaller and smaller cost $J(w,b)$.\n",
    "- At each step of gradient descent, it will be helpful for you to monitor your progress by computing the cost $J(w,b)$ as $(w,b)$ gets updated. \n",
    "- In this section, you will implement a function to calculate $J(w,b)$ so that you can check the progress of your gradient descent implementation.\n",
    "\n",
    "#### Cost function\n",
    "As you may recall from the lecture, for one variable, the cost function for linear regression $J(w,b)$ is defined as\n",
    "\n",
    "$$J(w,b) = \\frac{1}{2m} \\sum\\limits_{i = 0}^{m-1} (f_{w,b}(x^{(i)}) - y^{(i)})^2$$ \n",
    "\n",
    "- You can think of $f_{w,b}(x^{(i)})$ as the model's prediction of your restaurant's profit, as opposed to $y^{(i)}$, which is the actual profit that is recorded in the data.\n",
    "- $m$ is the number of training examples in the dataset\n",
    "\n",
    "#### Model prediction\n",
    "\n",
    "- For linear regression with one variable, the prediction of the model $f_{w,b}$ for an example $x^{(i)}$ is representented as:\n",
    "\n",
    "$$ f_{w,b}(x^{(i)}) = wx^{(i)} + b$$\n",
    "\n",
    "This is the equation for a line, with an intercept $b$ and a slope $w$\n",
    "\n",
    "#### Implementation\n",
    "\n",
    "Please complete the `compute_cost()` function below to compute the cost $J(w,b)$."
   ]
  },
  {
   "cell_type": "markdown",
   "id": "e096cf7e",
   "metadata": {
    "papermill": {
     "duration": 0.010135,
     "end_time": "2023-04-05T14:32:32.996818",
     "exception": false,
     "start_time": "2023-04-05T14:32:32.986683",
     "status": "completed"
    },
    "tags": []
   },
   "source": [
    "<a name=\"ex01\"></a>\n",
    "### Exercise 1\n",
    "\n",
    "Complete the `compute_cost` below to:\n",
    "\n",
    "* Iterate over the training examples, and for each example, compute:\n",
    "    * The prediction of the model for that example \n",
    "    $$\n",
    "    f_{wb}(x^{(i)}) =  wx^{(i)} + b \n",
    "    $$\n",
    "   \n",
    "    * The cost for that example  $$cost^{(i)} =  (f_{wb} - y^{(i)})^2$$\n",
    "    \n",
    "\n",
    "* Return the total cost over all examples\n",
    "$$J(\\mathbf{w},b) = \\frac{1}{2m} \\sum\\limits_{i = 0}^{m-1} cost^{(i)}$$\n",
    "  * Here, $m$ is the number of training examples and $\\sum$ is the summation operator\n",
    "\n",
    "If you get stuck, you can check out the hints presented after the cell below to help you with the implementation."
   ]
  },
  {
   "cell_type": "code",
   "execution_count": 11,
   "id": "e6b52a19",
   "metadata": {
    "execution": {
     "iopub.execute_input": "2023-04-05T14:32:33.019812Z",
     "iopub.status.busy": "2023-04-05T14:32:33.019387Z",
     "iopub.status.idle": "2023-04-05T14:32:33.024860Z",
     "shell.execute_reply": "2023-04-05T14:32:33.023402Z"
    },
    "papermill": {
     "duration": 0.020406,
     "end_time": "2023-04-05T14:32:33.027760",
     "exception": false,
     "start_time": "2023-04-05T14:32:33.007354",
     "status": "completed"
    },
    "tags": []
   },
   "outputs": [],
   "source": [
    "# def compute_cost(x, y, w, b):\n",
    "#     m = x.shape[0]\n",
    "#     f_wb = lambda xi: w * xi + b\n",
    "#     cost_func = lambda xi, yi: (f_wb(xi) - yi)**2\n",
    "#     costs = [cost_func(xi, yi) for xi, yi in zip(x, y)]\n",
    "#     return sum(costs)/(2*m)"
   ]
  },
  {
   "cell_type": "code",
   "execution_count": 12,
   "id": "83cacd58",
   "metadata": {
    "execution": {
     "iopub.execute_input": "2023-04-05T14:32:33.050888Z",
     "iopub.status.busy": "2023-04-05T14:32:33.050424Z",
     "iopub.status.idle": "2023-04-05T14:32:33.056932Z",
     "shell.execute_reply": "2023-04-05T14:32:33.055482Z"
    },
    "papermill": {
     "duration": 0.021496,
     "end_time": "2023-04-05T14:32:33.059890",
     "exception": false,
     "start_time": "2023-04-05T14:32:33.038394",
     "status": "completed"
    },
    "tags": []
   },
   "outputs": [],
   "source": [
    "def compute_cost(x,y,w,b):\n",
    "    return 1/(2*len(x)) * np.sum((w*x + b - y)**2)"
   ]
  },
  {
   "cell_type": "code",
   "execution_count": 13,
   "id": "59e72304",
   "metadata": {
    "execution": {
     "iopub.execute_input": "2023-04-05T14:32:33.082891Z",
     "iopub.status.busy": "2023-04-05T14:32:33.082425Z",
     "iopub.status.idle": "2023-04-05T14:32:33.090191Z",
     "shell.execute_reply": "2023-04-05T14:32:33.088688Z"
    },
    "papermill": {
     "duration": 0.022117,
     "end_time": "2023-04-05T14:32:33.092594",
     "exception": false,
     "start_time": "2023-04-05T14:32:33.070477",
     "status": "completed"
    },
    "tags": []
   },
   "outputs": [
    {
     "name": "stdout",
     "output_type": "stream",
     "text": [
      "<class 'numpy.float64'>\n",
      "Cost at initial w: 210525407253.538\n"
     ]
    }
   ],
   "source": [
    "# Compute cost with some initial values for paramaters w, b\n",
    "initial_w = 2\n",
    "initial_b = 1\n",
    "\n",
    "cost = compute_cost(x_train, y_train, initial_w, initial_b)\n",
    "print(type(cost))\n",
    "print(f'Cost at initial w: {cost:.3f}')"
   ]
  },
  {
   "cell_type": "markdown",
   "id": "a927aabd",
   "metadata": {
    "papermill": {
     "duration": 0.010181,
     "end_time": "2023-04-05T14:32:33.113361",
     "exception": false,
     "start_time": "2023-04-05T14:32:33.103180",
     "status": "completed"
    },
    "tags": []
   },
   "source": [
    "<a name=\"6\"></a>\n",
    "## 6 - Gradient descent \n",
    "\n",
    "In this section, you will implement the gradient for parameters $w, b$ for linear regression. "
   ]
  },
  {
   "cell_type": "markdown",
   "id": "48ad1e3f",
   "metadata": {
    "papermill": {
     "duration": 0.010037,
     "end_time": "2023-04-05T14:32:33.134023",
     "exception": false,
     "start_time": "2023-04-05T14:32:33.123986",
     "status": "completed"
    },
    "tags": []
   },
   "source": [
    "As described in the lecture videos, the gradient descent algorithm is:\n",
    "\n",
    "$$\\begin{align*}& \\text{repeat until convergence:} \\; \\lbrace \\newline \\; & \\phantom {0000} b := b -  \\alpha \\frac{\\partial J(w,b)}{\\partial b} \\newline       \\; & \\phantom {0000} w := w -  \\alpha \\frac{\\partial J(w,b)}{\\partial w} \\tag{1}  \\; & \n",
    "\\newline & \\rbrace\\end{align*}$$\n",
    "\n",
    "where, parameters $w, b$ are both updated simultaniously and where  \n",
    "$$\n",
    "\\frac{\\partial J(w,b)}{\\partial b}  = \\frac{1}{m} \\sum\\limits_{i = 0}^{m-1} (f_{w,b}(x^{(i)}) - y^{(i)}) \\tag{2}\n",
    "$$\n",
    "$$\n",
    "\\frac{\\partial J(w,b)}{\\partial w}  = \\frac{1}{m} \\sum\\limits_{i = 0}^{m-1} (f_{w,b}(x^{(i)}) -y^{(i)})x^{(i)} \\tag{3}\n",
    "$$\n",
    "* m is the number of training examples in the dataset\n",
    "\n",
    "    \n",
    "*  $f_{w,b}(x^{(i)})$ is the model's prediction, while $y^{(i)}$, is the target value\n",
    "\n",
    "\n",
    "You will implement a function called `compute_gradient` which calculates $\\frac{\\partial J(w)}{\\partial w}$, $\\frac{\\partial J(w)}{\\partial b}$ "
   ]
  },
  {
   "cell_type": "markdown",
   "id": "61bd3f76",
   "metadata": {
    "papermill": {
     "duration": 0.010073,
     "end_time": "2023-04-05T14:32:33.154420",
     "exception": false,
     "start_time": "2023-04-05T14:32:33.144347",
     "status": "completed"
    },
    "tags": []
   },
   "source": [
    "### Exercise 2\n",
    "\n",
    "Please complete the `compute_gradient` function to:\n",
    "\n",
    "* Iterate over the training examples, and for each example, compute:\n",
    "    * The prediction of the model for that example \n",
    "    $$\n",
    "    f_{wb}(x^{(i)}) =  wx^{(i)} + b \n",
    "    $$\n",
    "   \n",
    "    * The gradient for the parameters $w, b$ from that example \n",
    "        $$\n",
    "        \\frac{\\partial J(w,b)}{\\partial b}^{(i)}  =  (f_{w,b}(x^{(i)}) - y^{(i)}) \n",
    "        $$\n",
    "        $$\n",
    "        \\frac{\\partial J(w,b)}{\\partial w}^{(i)}  =  (f_{w,b}(x^{(i)}) -y^{(i)})x^{(i)} \n",
    "        $$\n",
    "    \n",
    "\n",
    "* Return the total gradient update from all the examples\n",
    "    $$\n",
    "    \\frac{\\partial J(w,b)}{\\partial b}  = \\frac{1}{m} \\sum\\limits_{i = 0}^{m-1} \\frac{\\partial J(w,b)}{\\partial b}^{(i)}\n",
    "    $$\n",
    "    \n",
    "    $$\n",
    "    \\frac{\\partial J(w,b)}{\\partial w}  = \\frac{1}{m} \\sum\\limits_{i = 0}^{m-1} \\frac{\\partial J(w,b)}{\\partial w}^{(i)} \n",
    "    $$\n",
    "  * Here, $m$ is the number of training examples and $\\sum$ is the summation operator\n",
    "\n",
    "If you get stuck, you can check out the hints presented after the cell below to help you with the implementation."
   ]
  },
  {
   "cell_type": "code",
   "execution_count": 14,
   "id": "ba18fb11",
   "metadata": {
    "execution": {
     "iopub.execute_input": "2023-04-05T14:32:33.177462Z",
     "iopub.status.busy": "2023-04-05T14:32:33.177056Z",
     "iopub.status.idle": "2023-04-05T14:32:33.181951Z",
     "shell.execute_reply": "2023-04-05T14:32:33.180715Z"
    },
    "papermill": {
     "duration": 0.019409,
     "end_time": "2023-04-05T14:32:33.184342",
     "exception": false,
     "start_time": "2023-04-05T14:32:33.164933",
     "status": "completed"
    },
    "tags": []
   },
   "outputs": [],
   "source": [
    "# def compute_gradient(x, y, w, b): \n",
    "#     m = x.shape[0]\n",
    "#     f_wb = lambda xi: w * xi + b\n",
    "#     dj_dw_func = lambda xi, yi: (f_wb(xi) - yi) * xi\n",
    "#     dj_db_func = lambda xi, yi: f_wb(xi) - yi\n",
    "#     dj_dw = sum([dj_dw_func(xi, yi) for xi, yi in zip(x, y)]) / m\n",
    "#     dj_db = sum([dj_db_func(xi, yi) for xi, yi in zip(x, y)]) / m\n",
    "#     return dj_dw, dj_db"
   ]
  },
  {
   "cell_type": "code",
   "execution_count": 15,
   "id": "399a9367",
   "metadata": {
    "execution": {
     "iopub.execute_input": "2023-04-05T14:32:33.207155Z",
     "iopub.status.busy": "2023-04-05T14:32:33.206739Z",
     "iopub.status.idle": "2023-04-05T14:32:33.213283Z",
     "shell.execute_reply": "2023-04-05T14:32:33.211956Z"
    },
    "papermill": {
     "duration": 0.021168,
     "end_time": "2023-04-05T14:32:33.216046",
     "exception": false,
     "start_time": "2023-04-05T14:32:33.194878",
     "status": "completed"
    },
    "tags": []
   },
   "outputs": [],
   "source": [
    "def compute_gradient(x, y, w, b):\n",
    "    return 1/len(x) * np.sum((w*x + b - y)*x),1/len(x) * np.sum((w*x + b - y))"
   ]
  },
  {
   "cell_type": "code",
   "execution_count": 16,
   "id": "9da0d927",
   "metadata": {
    "execution": {
     "iopub.execute_input": "2023-04-05T14:32:33.239312Z",
     "iopub.status.busy": "2023-04-05T14:32:33.238866Z",
     "iopub.status.idle": "2023-04-05T14:32:33.246999Z",
     "shell.execute_reply": "2023-04-05T14:32:33.245693Z"
    },
    "papermill": {
     "duration": 0.02296,
     "end_time": "2023-04-05T14:32:33.249764",
     "exception": false,
     "start_time": "2023-04-05T14:32:33.226804",
     "status": "completed"
    },
    "tags": []
   },
   "outputs": [
    {
     "name": "stdout",
     "output_type": "stream",
     "text": [
      "Gradient at initial w, b (zeros): -1360033662.4738815 -540088.1417665294\n"
     ]
    }
   ],
   "source": [
    "# Compute and display gradient with w initialized to zeroes\n",
    "initial_w = 0\n",
    "initial_b = 0\n",
    "\n",
    "tmp_dj_dw, tmp_dj_db = compute_gradient(x_train, y_train, initial_w, initial_b)\n",
    "print('Gradient at initial w, b (zeros):', tmp_dj_dw, tmp_dj_db)\n",
    "\n"
   ]
  },
  {
   "cell_type": "code",
   "execution_count": 17,
   "id": "acf3f20b",
   "metadata": {
    "execution": {
     "iopub.execute_input": "2023-04-05T14:32:33.272985Z",
     "iopub.status.busy": "2023-04-05T14:32:33.272593Z",
     "iopub.status.idle": "2023-04-05T14:32:33.279995Z",
     "shell.execute_reply": "2023-04-05T14:32:33.278667Z"
    },
    "papermill": {
     "duration": 0.022017,
     "end_time": "2023-04-05T14:32:33.282318",
     "exception": false,
     "start_time": "2023-04-05T14:32:33.260301",
     "status": "completed"
    },
    "tags": []
   },
   "outputs": [
    {
     "name": "stdout",
     "output_type": "stream",
     "text": [
      "Gradient at test w, b: -1358999350.9808729 -539671.9618192754\n"
     ]
    }
   ],
   "source": [
    "test_w = 0.2\n",
    "test_b = 0.2\n",
    "tmp_dj_dw, tmp_dj_db = compute_gradient(x_train, y_train, test_w, test_b)\n",
    "\n",
    "print('Gradient at test w, b:', tmp_dj_dw, tmp_dj_db)"
   ]
  },
  {
   "cell_type": "markdown",
   "id": "6a5cf826",
   "metadata": {
    "papermill": {
     "duration": 0.010375,
     "end_time": "2023-04-05T14:32:33.303352",
     "exception": false,
     "start_time": "2023-04-05T14:32:33.292977",
     "status": "completed"
    },
    "tags": []
   },
   "source": [
    "<a name=\"2.6\"></a>\n",
    "### 2.6 Learning parameters using batch gradient descent \n",
    "\n",
    "You will now find the optimal parameters of a linear regression model by using batch gradient descent. Recall batch refers to running all the examples in one iteration.\n",
    "- You don't need to implement anything for this part. Simply run the cells below. \n",
    "\n",
    "- A good way to verify that gradient descent is working correctly is to look\n",
    "at the value of $J(w,b)$ and check that it is decreasing with each step. \n",
    "\n",
    "- Assuming you have implemented the gradient and computed the cost correctly and you have an appropriate value for the learning rate alpha, $J(w,b)$ should never increase and should converge to a steady value by the end of the algorithm."
   ]
  },
  {
   "cell_type": "code",
   "execution_count": 18,
   "id": "010fb431",
   "metadata": {
    "execution": {
     "iopub.execute_input": "2023-04-05T14:32:33.326672Z",
     "iopub.status.busy": "2023-04-05T14:32:33.326263Z",
     "iopub.status.idle": "2023-04-05T14:32:33.337830Z",
     "shell.execute_reply": "2023-04-05T14:32:33.336676Z"
    },
    "papermill": {
     "duration": 0.026415,
     "end_time": "2023-04-05T14:32:33.340452",
     "exception": false,
     "start_time": "2023-04-05T14:32:33.314037",
     "status": "completed"
    },
    "tags": []
   },
   "outputs": [],
   "source": [
    "def gradient_descent(x, y, w_in, b_in, cost_function, gradient_function, alpha, num_iters): \n",
    "    \"\"\"\n",
    "    Performs batch gradient descent to learn theta. Updates theta by taking \n",
    "    num_iters gradient steps with learning rate alpha\n",
    "    \n",
    "    Args:\n",
    "      x :    (ndarray): Shape (m,)\n",
    "      y :    (ndarray): Shape (m,)\n",
    "      w_in, b_in : (scalar) Initial values of parameters of the model\n",
    "      cost_function: function to compute cost\n",
    "      gradient_function: function to compute the gradient\n",
    "      alpha : (float) Learning rate\n",
    "      num_iters : (int) number of iterations to run gradient descent\n",
    "    Returns\n",
    "      w : (ndarray): Shape (1,) Updated values of parameters of the model after\n",
    "          running gradient descent\n",
    "      b : (scalar)                Updated value of parameter of the model after\n",
    "          running gradient descent\n",
    "    \"\"\"\n",
    "    \n",
    "    # number of training examples\n",
    "    m = len(x)\n",
    "    \n",
    "    # An array to store cost J and w's at each iteration — primarily for graphing later\n",
    "    J_history = []\n",
    "    w_history = []\n",
    "    w = copy.deepcopy(w_in)  #avoid modifying global w within function\n",
    "    b = b_in\n",
    "    \n",
    "    for i in range(num_iters):\n",
    "\n",
    "        # Calculate the gradient and update the parameters\n",
    "        dj_dw, dj_db = gradient_function(x, y, w, b )  \n",
    "\n",
    "        # Update Parameters using w, b, alpha and gradient\n",
    "        w = w - alpha * dj_dw               \n",
    "        b = b - alpha * dj_db               \n",
    "\n",
    "        # Save cost J at each iteration\n",
    "        if i<100000:      # prevent resource exhaustion \n",
    "            cost =  cost_function(x, y, w, b)\n",
    "            J_history.append(cost)\n",
    "\n",
    "        # Print cost every at intervals 10 times or as many iterations if < 10\n",
    "        if i% math.ceil(num_iters/10) == 0:\n",
    "            w_history.append(w)\n",
    "            print(f\"Iteration {i:4}: Cost {float(J_history[-1]):8.2f}   \")\n",
    "        \n",
    "    return w, b, J_history, w_history #return w and J,w history for graphing"
   ]
  },
  {
   "cell_type": "code",
   "execution_count": 19,
   "id": "335c5abf",
   "metadata": {
    "execution": {
     "iopub.execute_input": "2023-04-05T14:32:33.364299Z",
     "iopub.status.busy": "2023-04-05T14:32:33.363052Z",
     "iopub.status.idle": "2023-04-05T14:32:33.379679Z",
     "shell.execute_reply": "2023-04-05T14:32:33.378357Z"
    },
    "papermill": {
     "duration": 0.032181,
     "end_time": "2023-04-05T14:32:33.383228",
     "exception": false,
     "start_time": "2023-04-05T14:32:33.351047",
     "status": "completed"
    },
    "tags": []
   },
   "outputs": [
    {
     "name": "stdout",
     "output_type": "stream",
     "text": [
      "Iteration    0: Cost 478078607970701082624.00   \n",
      "Iteration    3: Cost 9122823133910272595803954900396343470312589885440.00   \n",
      "Iteration    6: Cost 174084137108442083129363796664304193390555353432398266702796348624810677370880.00   \n",
      "Iteration    9: Cost 3321919799162133852046114759934057305187542392028226462539348198754412690780269175788060709757792475414528.00   \n",
      "Iteration   12: Cost 63389757018419599831675223144202525612356016096819315044544742686533703104522852264988089241313577689034780970169292731136645147918336.00   \n",
      "Iteration   15: Cost 1209620200905445147373122593917747208087176087733719988205780786811997242077227193159441964069451858878364604716001882156441303999035394975657208397294188604948480.00   \n",
      "Iteration   18: Cost 23082294352593322832406454795070154765281821087941846571406225006628979436105076774535171897707100429443038811011874132887658095051124033409641273357245180353290643896153429700697980118499328.00   \n",
      "Iteration   21: Cost 440462479198798761051707957292094603200517143345591690537577880548391521093336303866710545042177195573583928625331132034614989771057614330986644190492491081297728153960617519957246198784743398002847237208228358608912384.00   \n",
      "Iteration   24: Cost 8405022161939259706410866057432521326242759662506791995075107093350395689576286067679764902166025114770561176993431752673287930036934369169810108151444905731946368952949405250826916006716944023362972445022911764846820822401058386556255980769771520.00   \n",
      "Iteration   27: Cost 160386868073739772172718182077807920439940416052331028516878651212067070172048159415892054926830954524079911785258838204153964250030982741349383215713471617068756043115318909915913501693585230851321831905508007179556481697757722918975862308485705129569549492558640124962799616.00   \n",
      "w,b found by gradient descent: -6.6566029250269735e+143 -2.6782333282830595e+140\n"
     ]
    }
   ],
   "source": [
    "# initialize fitting parameters. Recall that the shape of w is (n,)\n",
    "initial_w = 0.\n",
    "initial_b = 0.\n",
    "\n",
    "# some gradient descent settings\n",
    "iterations = 30\n",
    "alpha = 0.01\n",
    "\n",
    "w,b,_,_ = gradient_descent(x_train ,y_train, initial_w, initial_b, \n",
    "                     compute_cost, compute_gradient, alpha, iterations)\n",
    "print(\"w,b found by gradient descent:\", w, b)"
   ]
  },
  {
   "cell_type": "markdown",
   "id": "4270669d",
   "metadata": {
    "papermill": {
     "duration": 0.011183,
     "end_time": "2023-04-05T14:32:33.405294",
     "exception": false,
     "start_time": "2023-04-05T14:32:33.394111",
     "status": "completed"
    },
    "tags": []
   },
   "source": [
    "We will now use the final parameters from gradient descent to plot the linear fit. \n",
    "\n",
    "Recall that we can get the prediction for a single example $f(x^{(i)})= wx^{(i)}+b$. \n",
    "\n",
    "To calculate the predictions on the entire dataset, we can loop through all the training examples and calculate the prediction for each example. This is shown in the code block below."
   ]
  },
  {
   "cell_type": "code",
   "execution_count": 20,
   "id": "83bd114a",
   "metadata": {
    "execution": {
     "iopub.execute_input": "2023-04-05T14:32:33.429071Z",
     "iopub.status.busy": "2023-04-05T14:32:33.428654Z",
     "iopub.status.idle": "2023-04-05T14:32:33.445766Z",
     "shell.execute_reply": "2023-04-05T14:32:33.444676Z"
    },
    "papermill": {
     "duration": 0.032287,
     "end_time": "2023-04-05T14:32:33.448594",
     "exception": false,
     "start_time": "2023-04-05T14:32:33.416307",
     "status": "completed"
    },
    "tags": []
   },
   "outputs": [],
   "source": [
    "m = x_train.shape[0]\n",
    "predicted = np.zeros(m)\n",
    "\n",
    "for i in range(m):\n",
    "    predicted[i] = w * x_train[i] + b"
   ]
  },
  {
   "cell_type": "code",
   "execution_count": 21,
   "id": "86a3c898",
   "metadata": {
    "execution": {
     "iopub.execute_input": "2023-04-05T14:32:33.472477Z",
     "iopub.status.busy": "2023-04-05T14:32:33.471674Z",
     "iopub.status.idle": "2023-04-05T14:32:33.784379Z",
     "shell.execute_reply": "2023-04-05T14:32:33.782925Z"
    },
    "papermill": {
     "duration": 0.328418,
     "end_time": "2023-04-05T14:32:33.787656",
     "exception": false,
     "start_time": "2023-04-05T14:32:33.459238",
     "status": "completed"
    },
    "tags": []
   },
   "outputs": [
    {
     "data": {
      "text/plain": [
       "Text(0.5, 0, 'Population of City in 10,000s')"
      ]
     },
     "execution_count": 21,
     "metadata": {},
     "output_type": "execute_result"
    },
    {
     "data": {
      "image/png": "[encoded data removed]",
      "text/plain": [
       "<Figure size 640x480 with 1 Axes>"
      ]
     },
     "metadata": {},
     "output_type": "display_data"
    }
   ],
   "source": [
    "# Plot the linear fit\n",
    "plt.plot(x_train, predicted, c = \"b\")\n",
    "\n",
    "# Create a scatter plot of the data. \n",
    "plt.scatter(x_train, y_train, marker='x', c='r') \n",
    "\n",
    "# Set the title\n",
    "plt.title(\"Profits vs. Population per city\")\n",
    "# Set the y-axis label\n",
    "plt.ylabel('Profit in $10,000')\n",
    "# Set the x-axis label\n",
    "plt.xlabel('Population of City in 10,000s')"
   ]
  },
  {
   "cell_type": "code",
   "execution_count": 22,
   "id": "01048444",
   "metadata": {
    "execution": {
     "iopub.execute_input": "2023-04-05T14:32:33.812367Z",
     "iopub.status.busy": "2023-04-05T14:32:33.811974Z",
     "iopub.status.idle": "2023-04-05T14:32:33.819291Z",
     "shell.execute_reply": "2023-04-05T14:32:33.817944Z"
    },
    "papermill": {
     "duration": 0.022603,
     "end_time": "2023-04-05T14:32:33.821893",
     "exception": false,
     "start_time": "2023-04-05T14:32:33.799290",
     "status": "completed"
    },
    "tags": []
   },
   "outputs": [
    {
     "name": "stdout",
     "output_type": "stream",
     "text": [
      "For population = 35,000, we predict a profit of $-23300788470922687474225834620139698418419893992724646792558496520865217781493060344303494447289795350613874256006807637460857838093811377241323470848.00\n",
      "For population = 70,000, we predict a profit of $-46598898708517099997173857427770864261515752202637904809656349738966760730630301537063296514679551745005597104153658089261357199108893844915596820480.00\n"
     ]
    }
   ],
   "source": [
    "predict1 = 3.5 * w + b\n",
    "print('For population = 35,000, we predict a profit of $%.2f' % (predict1*10000))\n",
    "\n",
    "predict2 = 7.0 * w + b\n",
    "print('For population = 70,000, we predict a profit of $%.2f' % (predict2*10000))"
   ]
  },
  {
   "cell_type": "markdown",
   "id": "62efab05",
   "metadata": {
    "papermill": {
     "duration": 0.011229,
     "end_time": "2023-04-05T14:32:33.844490",
     "exception": false,
     "start_time": "2023-04-05T14:32:33.833261",
     "status": "completed"
    },
    "tags": []
   },
   "source": [
    "its seems a vailure :(. I'll come back here in future."
   ]
  }
 ],
 "metadata": {
  "kernelspec": {
   "display_name": "Python 3",
   "language": "python",
   "name": "python3"
  },
  "language_info": {
   "codemirror_mode": {
    "name": "ipython",
    "version": 3
   },
   "file_extension": ".py",
   "mimetype": "text/x-python",
   "name": "python",
   "nbconvert_exporter": "python",
   "pygments_lexer": "ipython3",
   "version": "3.7.12"
  },
  "papermill": {
   "default_parameters": {},
   "duration": 17.081862,
   "end_time": "2023-04-05T14:32:36.908394",
   "environment_variables": {},
   "exception": null,
   "input_path": "__notebook__.ipynb",
   "output_path": "__notebook__.ipynb",
   "parameters": {},
   "start_time": "2023-04-05T14:32:19.826532",
   "version": "2.4.0"
  }
 },
 "nbformat": 4,
 "nbformat_minor": 5
}
