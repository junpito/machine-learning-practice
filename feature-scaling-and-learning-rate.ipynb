{
 "cells": [
  {
   "cell_type": "code",
   "execution_count": 1,
   "id": "9edb4239",
   "metadata": {
    "_cell_guid": "b1076dfc-b9ad-4769-8c92-a6c4dae69d19",
    "_kg_hide-input": true,
    "_kg_hide-output": true,
    "_uuid": "8f2839f25d086af736a60e9eeb907d3b93b6e0e5",
    "execution": {
     "iopub.execute_input": "2023-04-05T14:42:43.423500Z",
     "iopub.status.busy": "2023-04-05T14:42:43.422637Z",
     "iopub.status.idle": "2023-04-05T14:42:43.439845Z",
     "shell.execute_reply": "2023-04-05T14:42:43.438801Z"
    },
    "papermill": {
     "duration": 0.034826,
     "end_time": "2023-04-05T14:42:43.442301",
     "exception": false,
     "start_time": "2023-04-05T14:42:43.407475",
     "status": "completed"
    },
    "tags": []
   },
   "outputs": [
    {
     "name": "stdout",
     "output_type": "stream",
     "text": [
      "/kaggle/input/simple-linear-regression/kc_house_data.csv\n"
     ]
    }
   ],
   "source": [
    "# This Python 3 environment comes with many helpful analytics libraries installed\n",
    "# It is defined by the kaggle/python Docker image: https://github.com/kaggle/docker-python\n",
    "# For example, here's several helpful packages to load\n",
    "\n",
    "import numpy as np # linear algebra\n",
    "import pandas as pd # data processing, CSV file I/O (e.g. pd.read_csv)\n",
    "\n",
    "# Input data files are available in the read-only \"../input/\" directory\n",
    "# For example, running this (by clicking run or pressing Shift+Enter) will list all files under the input directory\n",
    "\n",
    "import os\n",
    "for dirname, _, filenames in os.walk('/kaggle/input'):\n",
    "    for filename in filenames:\n",
    "        print(os.path.join(dirname, filename))\n",
    "\n",
    "# You can write up to 20GB to the current directory (/kaggle/working/) that gets preserved as output when you create a version using \"Save & Run All\" \n",
    "# You can also write temporary files to /kaggle/temp/, but they won't be saved outside of the current session"
   ]
  },
  {
   "cell_type": "markdown",
   "id": "824f60f2",
   "metadata": {
    "papermill": {
     "duration": 0.007962,
     "end_time": "2023-04-05T14:42:43.459009",
     "exception": false,
     "start_time": "2023-04-05T14:42:43.451047",
     "status": "completed"
    },
    "tags": []
   },
   "source": [
    "# Practice Lab: Linear Regression\n",
    "\n",
    "Welcome to your first practice lab! In this lab, you will implement linear regression with one variable to predict profits for a restaurant franchise.\n",
    "\n",
    "\n",
    "# Outline\n",
    "- [ 1 - Packages ](#1)\n",
    "- [ 2 - Linear regression with one variable ](#2)\n",
    "  - [ 2.1 Problem Statement](#2.1)\n",
    "  - [ 2.2  Dataset](#2.2)\n",
    "  - [ 2.3 Refresher on linear regression](#2.3)\n",
    "  - [ 2.4  Compute Cost](#2.4)\n",
    "    - [ Exercise 1](#ex01)\n",
    "  - [ 2.5 Gradient descent ](#2.5)\n",
    "    - [ Exercise 2](#ex02)\n",
    "  - [ 2.6 Learning parameters using batch gradient descent ](#2.6)"
   ]
  },
  {
   "cell_type": "markdown",
   "id": "6222820f",
   "metadata": {
    "papermill": {
     "duration": 0.007759,
     "end_time": "2023-04-05T14:42:43.474995",
     "exception": false,
     "start_time": "2023-04-05T14:42:43.467236",
     "status": "completed"
    },
    "tags": []
   },
   "source": [
    "<a name=\"1\"></a>\n",
    "## 1 - Packages \n",
    "\n",
    "First, let's run the cell below to import all the packages that you will need during this assignment.\n",
    "- [numpy](www.numpy.org) is the fundamental package for working with matrices in Python.\n",
    "- [matplotlib](http://matplotlib.org) is a famous library to plot graphs in Python.\n",
    "- ``utils.py`` contains helper functions for this assignment. You do not need to modify code in this file.\n"
   ]
  },
  {
   "cell_type": "code",
   "execution_count": 2,
   "id": "ecd8593c",
   "metadata": {
    "execution": {
     "iopub.execute_input": "2023-04-05T14:42:43.493296Z",
     "iopub.status.busy": "2023-04-05T14:42:43.492870Z",
     "iopub.status.idle": "2023-04-05T14:42:43.499621Z",
     "shell.execute_reply": "2023-04-05T14:42:43.498757Z"
    },
    "papermill": {
     "duration": 0.018761,
     "end_time": "2023-04-05T14:42:43.501945",
     "exception": false,
     "start_time": "2023-04-05T14:42:43.483184",
     "status": "completed"
    },
    "tags": []
   },
   "outputs": [],
   "source": [
    "import numpy as np\n",
    "import matplotlib.pyplot as plt\n",
    "#from utils import *\n",
    "import copy\n",
    "import math\n",
    "%matplotlib inline"
   ]
  },
  {
   "cell_type": "markdown",
   "id": "93d2ae93",
   "metadata": {
    "papermill": {
     "duration": 0.008083,
     "end_time": "2023-04-05T14:42:43.518408",
     "exception": false,
     "start_time": "2023-04-05T14:42:43.510325",
     "status": "completed"
    },
    "tags": []
   },
   "source": [
    "## 2 -  Problem Statement\n",
    "\n",
    "Suppose you are the CEO of a restaurant franchise and are considering different cities for opening a new outlet.\n",
    "- You would like to expand your business to cities that may give your restaurant higher profits.\n",
    "- The chain already has restaurants in various cities and you have data for profits and populations from the cities.\n",
    "- You also have data on cities that are candidates for a new restaurant. \n",
    "    - For these cities, you have the city population.\n",
    "    \n",
    "Can you use the data to help you identify which cities may potentially give your business higher profits?\n",
    "\n",
    "## 3 - Dataset\n",
    "\n",
    "You will start by loading the dataset for this task. \n",
    "- The `load_data()` function shown below loads the data into variables `x_train` and `y_train`\n",
    "  - `x_train` is the population of a city\n",
    "  - `y_train` is the profit of a restaurant in that city. A negative value for profit indicates a loss.   \n",
    "  - Both `X_train` and `y_train` are numpy arrays."
   ]
  },
  {
   "cell_type": "code",
   "execution_count": 3,
   "id": "728f79ed",
   "metadata": {
    "execution": {
     "iopub.execute_input": "2023-04-05T14:42:43.536686Z",
     "iopub.status.busy": "2023-04-05T14:42:43.536216Z",
     "iopub.status.idle": "2023-04-05T14:42:43.684212Z",
     "shell.execute_reply": "2023-04-05T14:42:43.683118Z"
    },
    "papermill": {
     "duration": 0.160049,
     "end_time": "2023-04-05T14:42:43.686691",
     "exception": false,
     "start_time": "2023-04-05T14:42:43.526642",
     "status": "completed"
    },
    "tags": []
   },
   "outputs": [
    {
     "data": {
      "text/html": [
       "<div>\n",
       "<style scoped>\n",
       "    .dataframe tbody tr th:only-of-type {\n",
       "        vertical-align: middle;\n",
       "    }\n",
       "\n",
       "    .dataframe tbody tr th {\n",
       "        vertical-align: top;\n",
       "    }\n",
       "\n",
       "    .dataframe thead th {\n",
       "        text-align: right;\n",
       "    }\n",
       "</style>\n",
       "<table border=\"1\" class=\"dataframe\">\n",
       "  <thead>\n",
       "    <tr style=\"text-align: right;\">\n",
       "      <th></th>\n",
       "      <th>id</th>\n",
       "      <th>date</th>\n",
       "      <th>price</th>\n",
       "      <th>bedrooms</th>\n",
       "      <th>bathrooms</th>\n",
       "      <th>sqft_living</th>\n",
       "      <th>sqft_lot</th>\n",
       "      <th>floors</th>\n",
       "      <th>waterfront</th>\n",
       "      <th>view</th>\n",
       "      <th>...</th>\n",
       "      <th>grade</th>\n",
       "      <th>sqft_above</th>\n",
       "      <th>sqft_basement</th>\n",
       "      <th>yr_built</th>\n",
       "      <th>yr_renovated</th>\n",
       "      <th>zipcode</th>\n",
       "      <th>lat</th>\n",
       "      <th>long</th>\n",
       "      <th>sqft_living15</th>\n",
       "      <th>sqft_lot15</th>\n",
       "    </tr>\n",
       "  </thead>\n",
       "  <tbody>\n",
       "    <tr>\n",
       "      <th>0</th>\n",
       "      <td>7129300520</td>\n",
       "      <td>20141013T000000</td>\n",
       "      <td>221900.0</td>\n",
       "      <td>3</td>\n",
       "      <td>1.00</td>\n",
       "      <td>1180</td>\n",
       "      <td>5650</td>\n",
       "      <td>1.0</td>\n",
       "      <td>0</td>\n",
       "      <td>0</td>\n",
       "      <td>...</td>\n",
       "      <td>7</td>\n",
       "      <td>1180</td>\n",
       "      <td>0</td>\n",
       "      <td>1955</td>\n",
       "      <td>0</td>\n",
       "      <td>98178</td>\n",
       "      <td>47.5112</td>\n",
       "      <td>-122.257</td>\n",
       "      <td>1340</td>\n",
       "      <td>5650</td>\n",
       "    </tr>\n",
       "    <tr>\n",
       "      <th>1</th>\n",
       "      <td>6414100192</td>\n",
       "      <td>20141209T000000</td>\n",
       "      <td>538000.0</td>\n",
       "      <td>3</td>\n",
       "      <td>2.25</td>\n",
       "      <td>2570</td>\n",
       "      <td>7242</td>\n",
       "      <td>2.0</td>\n",
       "      <td>0</td>\n",
       "      <td>0</td>\n",
       "      <td>...</td>\n",
       "      <td>7</td>\n",
       "      <td>2170</td>\n",
       "      <td>400</td>\n",
       "      <td>1951</td>\n",
       "      <td>1991</td>\n",
       "      <td>98125</td>\n",
       "      <td>47.7210</td>\n",
       "      <td>-122.319</td>\n",
       "      <td>1690</td>\n",
       "      <td>7639</td>\n",
       "    </tr>\n",
       "    <tr>\n",
       "      <th>2</th>\n",
       "      <td>5631500400</td>\n",
       "      <td>20150225T000000</td>\n",
       "      <td>180000.0</td>\n",
       "      <td>2</td>\n",
       "      <td>1.00</td>\n",
       "      <td>770</td>\n",
       "      <td>10000</td>\n",
       "      <td>1.0</td>\n",
       "      <td>0</td>\n",
       "      <td>0</td>\n",
       "      <td>...</td>\n",
       "      <td>6</td>\n",
       "      <td>770</td>\n",
       "      <td>0</td>\n",
       "      <td>1933</td>\n",
       "      <td>0</td>\n",
       "      <td>98028</td>\n",
       "      <td>47.7379</td>\n",
       "      <td>-122.233</td>\n",
       "      <td>2720</td>\n",
       "      <td>8062</td>\n",
       "    </tr>\n",
       "    <tr>\n",
       "      <th>3</th>\n",
       "      <td>2487200875</td>\n",
       "      <td>20141209T000000</td>\n",
       "      <td>604000.0</td>\n",
       "      <td>4</td>\n",
       "      <td>3.00</td>\n",
       "      <td>1960</td>\n",
       "      <td>5000</td>\n",
       "      <td>1.0</td>\n",
       "      <td>0</td>\n",
       "      <td>0</td>\n",
       "      <td>...</td>\n",
       "      <td>7</td>\n",
       "      <td>1050</td>\n",
       "      <td>910</td>\n",
       "      <td>1965</td>\n",
       "      <td>0</td>\n",
       "      <td>98136</td>\n",
       "      <td>47.5208</td>\n",
       "      <td>-122.393</td>\n",
       "      <td>1360</td>\n",
       "      <td>5000</td>\n",
       "    </tr>\n",
       "    <tr>\n",
       "      <th>4</th>\n",
       "      <td>1954400510</td>\n",
       "      <td>20150218T000000</td>\n",
       "      <td>510000.0</td>\n",
       "      <td>3</td>\n",
       "      <td>2.00</td>\n",
       "      <td>1680</td>\n",
       "      <td>8080</td>\n",
       "      <td>1.0</td>\n",
       "      <td>0</td>\n",
       "      <td>0</td>\n",
       "      <td>...</td>\n",
       "      <td>8</td>\n",
       "      <td>1680</td>\n",
       "      <td>0</td>\n",
       "      <td>1987</td>\n",
       "      <td>0</td>\n",
       "      <td>98074</td>\n",
       "      <td>47.6168</td>\n",
       "      <td>-122.045</td>\n",
       "      <td>1800</td>\n",
       "      <td>7503</td>\n",
       "    </tr>\n",
       "  </tbody>\n",
       "</table>\n",
       "<p>5 rows × 21 columns</p>\n",
       "</div>"
      ],
      "text/plain": [
       "           id             date     price  bedrooms  bathrooms  sqft_living  \\\n",
       "0  7129300520  20141013T000000  221900.0         3       1.00         1180   \n",
       "1  6414100192  20141209T000000  538000.0         3       2.25         2570   \n",
       "2  5631500400  20150225T000000  180000.0         2       1.00          770   \n",
       "3  2487200875  20141209T000000  604000.0         4       3.00         1960   \n",
       "4  1954400510  20150218T000000  510000.0         3       2.00         1680   \n",
       "\n",
       "   sqft_lot  floors  waterfront  view  ...  grade  sqft_above  sqft_basement  \\\n",
       "0      5650     1.0           0     0  ...      7        1180              0   \n",
       "1      7242     2.0           0     0  ...      7        2170            400   \n",
       "2     10000     1.0           0     0  ...      6         770              0   \n",
       "3      5000     1.0           0     0  ...      7        1050            910   \n",
       "4      8080     1.0           0     0  ...      8        1680              0   \n",
       "\n",
       "   yr_built  yr_renovated  zipcode      lat     long  sqft_living15  \\\n",
       "0      1955             0    98178  47.5112 -122.257           1340   \n",
       "1      1951          1991    98125  47.7210 -122.319           1690   \n",
       "2      1933             0    98028  47.7379 -122.233           2720   \n",
       "3      1965             0    98136  47.5208 -122.393           1360   \n",
       "4      1987             0    98074  47.6168 -122.045           1800   \n",
       "\n",
       "   sqft_lot15  \n",
       "0        5650  \n",
       "1        7639  \n",
       "2        8062  \n",
       "3        5000  \n",
       "4        7503  \n",
       "\n",
       "[5 rows x 21 columns]"
      ]
     },
     "execution_count": 3,
     "metadata": {},
     "output_type": "execute_result"
    }
   ],
   "source": [
    "#load the dataset \n",
    "df = pd.read_csv('/kaggle/input/simple-linear-regression/kc_house_data.csv')\n",
    "df.head()\n"
   ]
  },
  {
   "cell_type": "code",
   "execution_count": 4,
   "id": "740370ef",
   "metadata": {
    "execution": {
     "iopub.execute_input": "2023-04-05T14:42:43.706296Z",
     "iopub.status.busy": "2023-04-05T14:42:43.705850Z",
     "iopub.status.idle": "2023-04-05T14:42:43.732069Z",
     "shell.execute_reply": "2023-04-05T14:42:43.730843Z"
    },
    "papermill": {
     "duration": 0.038964,
     "end_time": "2023-04-05T14:42:43.734736",
     "exception": false,
     "start_time": "2023-04-05T14:42:43.695772",
     "status": "completed"
    },
    "tags": []
   },
   "outputs": [
    {
     "data": {
      "text/html": [
       "<div>\n",
       "<style scoped>\n",
       "    .dataframe tbody tr th:only-of-type {\n",
       "        vertical-align: middle;\n",
       "    }\n",
       "\n",
       "    .dataframe tbody tr th {\n",
       "        vertical-align: top;\n",
       "    }\n",
       "\n",
       "    .dataframe thead th {\n",
       "        text-align: right;\n",
       "    }\n",
       "</style>\n",
       "<table border=\"1\" class=\"dataframe\">\n",
       "  <thead>\n",
       "    <tr style=\"text-align: right;\">\n",
       "      <th></th>\n",
       "      <th>id</th>\n",
       "      <th>date</th>\n",
       "      <th>price</th>\n",
       "      <th>bedrooms</th>\n",
       "      <th>bathrooms</th>\n",
       "      <th>sqft_living</th>\n",
       "      <th>sqft_lot</th>\n",
       "      <th>floors</th>\n",
       "      <th>waterfront</th>\n",
       "      <th>view</th>\n",
       "      <th>...</th>\n",
       "      <th>grade</th>\n",
       "      <th>sqft_above</th>\n",
       "      <th>sqft_basement</th>\n",
       "      <th>yr_built</th>\n",
       "      <th>yr_renovated</th>\n",
       "      <th>zipcode</th>\n",
       "      <th>lat</th>\n",
       "      <th>long</th>\n",
       "      <th>sqft_living15</th>\n",
       "      <th>sqft_lot15</th>\n",
       "    </tr>\n",
       "  </thead>\n",
       "  <tbody>\n",
       "    <tr>\n",
       "      <th>21608</th>\n",
       "      <td>263000018</td>\n",
       "      <td>20140521T000000</td>\n",
       "      <td>360000.0</td>\n",
       "      <td>3</td>\n",
       "      <td>2.50</td>\n",
       "      <td>1530</td>\n",
       "      <td>1131</td>\n",
       "      <td>3.0</td>\n",
       "      <td>0</td>\n",
       "      <td>0</td>\n",
       "      <td>...</td>\n",
       "      <td>8</td>\n",
       "      <td>1530</td>\n",
       "      <td>0</td>\n",
       "      <td>2009</td>\n",
       "      <td>0</td>\n",
       "      <td>98103</td>\n",
       "      <td>47.6993</td>\n",
       "      <td>-122.346</td>\n",
       "      <td>1530</td>\n",
       "      <td>1509</td>\n",
       "    </tr>\n",
       "    <tr>\n",
       "      <th>21609</th>\n",
       "      <td>6600060120</td>\n",
       "      <td>20150223T000000</td>\n",
       "      <td>400000.0</td>\n",
       "      <td>4</td>\n",
       "      <td>2.50</td>\n",
       "      <td>2310</td>\n",
       "      <td>5813</td>\n",
       "      <td>2.0</td>\n",
       "      <td>0</td>\n",
       "      <td>0</td>\n",
       "      <td>...</td>\n",
       "      <td>8</td>\n",
       "      <td>2310</td>\n",
       "      <td>0</td>\n",
       "      <td>2014</td>\n",
       "      <td>0</td>\n",
       "      <td>98146</td>\n",
       "      <td>47.5107</td>\n",
       "      <td>-122.362</td>\n",
       "      <td>1830</td>\n",
       "      <td>7200</td>\n",
       "    </tr>\n",
       "    <tr>\n",
       "      <th>21610</th>\n",
       "      <td>1523300141</td>\n",
       "      <td>20140623T000000</td>\n",
       "      <td>402101.0</td>\n",
       "      <td>2</td>\n",
       "      <td>0.75</td>\n",
       "      <td>1020</td>\n",
       "      <td>1350</td>\n",
       "      <td>2.0</td>\n",
       "      <td>0</td>\n",
       "      <td>0</td>\n",
       "      <td>...</td>\n",
       "      <td>7</td>\n",
       "      <td>1020</td>\n",
       "      <td>0</td>\n",
       "      <td>2009</td>\n",
       "      <td>0</td>\n",
       "      <td>98144</td>\n",
       "      <td>47.5944</td>\n",
       "      <td>-122.299</td>\n",
       "      <td>1020</td>\n",
       "      <td>2007</td>\n",
       "    </tr>\n",
       "    <tr>\n",
       "      <th>21611</th>\n",
       "      <td>291310100</td>\n",
       "      <td>20150116T000000</td>\n",
       "      <td>400000.0</td>\n",
       "      <td>3</td>\n",
       "      <td>2.50</td>\n",
       "      <td>1600</td>\n",
       "      <td>2388</td>\n",
       "      <td>2.0</td>\n",
       "      <td>0</td>\n",
       "      <td>0</td>\n",
       "      <td>...</td>\n",
       "      <td>8</td>\n",
       "      <td>1600</td>\n",
       "      <td>0</td>\n",
       "      <td>2004</td>\n",
       "      <td>0</td>\n",
       "      <td>98027</td>\n",
       "      <td>47.5345</td>\n",
       "      <td>-122.069</td>\n",
       "      <td>1410</td>\n",
       "      <td>1287</td>\n",
       "    </tr>\n",
       "    <tr>\n",
       "      <th>21612</th>\n",
       "      <td>1523300157</td>\n",
       "      <td>20141015T000000</td>\n",
       "      <td>325000.0</td>\n",
       "      <td>2</td>\n",
       "      <td>0.75</td>\n",
       "      <td>1020</td>\n",
       "      <td>1076</td>\n",
       "      <td>2.0</td>\n",
       "      <td>0</td>\n",
       "      <td>0</td>\n",
       "      <td>...</td>\n",
       "      <td>7</td>\n",
       "      <td>1020</td>\n",
       "      <td>0</td>\n",
       "      <td>2008</td>\n",
       "      <td>0</td>\n",
       "      <td>98144</td>\n",
       "      <td>47.5941</td>\n",
       "      <td>-122.299</td>\n",
       "      <td>1020</td>\n",
       "      <td>1357</td>\n",
       "    </tr>\n",
       "  </tbody>\n",
       "</table>\n",
       "<p>5 rows × 21 columns</p>\n",
       "</div>"
      ],
      "text/plain": [
       "               id             date     price  bedrooms  bathrooms  \\\n",
       "21608   263000018  20140521T000000  360000.0         3       2.50   \n",
       "21609  6600060120  20150223T000000  400000.0         4       2.50   \n",
       "21610  1523300141  20140623T000000  402101.0         2       0.75   \n",
       "21611   291310100  20150116T000000  400000.0         3       2.50   \n",
       "21612  1523300157  20141015T000000  325000.0         2       0.75   \n",
       "\n",
       "       sqft_living  sqft_lot  floors  waterfront  view  ...  grade  \\\n",
       "21608         1530      1131     3.0           0     0  ...      8   \n",
       "21609         2310      5813     2.0           0     0  ...      8   \n",
       "21610         1020      1350     2.0           0     0  ...      7   \n",
       "21611         1600      2388     2.0           0     0  ...      8   \n",
       "21612         1020      1076     2.0           0     0  ...      7   \n",
       "\n",
       "       sqft_above  sqft_basement  yr_built  yr_renovated  zipcode      lat  \\\n",
       "21608        1530              0      2009             0    98103  47.6993   \n",
       "21609        2310              0      2014             0    98146  47.5107   \n",
       "21610        1020              0      2009             0    98144  47.5944   \n",
       "21611        1600              0      2004             0    98027  47.5345   \n",
       "21612        1020              0      2008             0    98144  47.5941   \n",
       "\n",
       "          long  sqft_living15  sqft_lot15  \n",
       "21608 -122.346           1530        1509  \n",
       "21609 -122.362           1830        7200  \n",
       "21610 -122.299           1020        2007  \n",
       "21611 -122.069           1410        1287  \n",
       "21612 -122.299           1020        1357  \n",
       "\n",
       "[5 rows x 21 columns]"
      ]
     },
     "execution_count": 4,
     "metadata": {},
     "output_type": "execute_result"
    }
   ],
   "source": [
    "df.tail()"
   ]
  },
  {
   "cell_type": "code",
   "execution_count": 5,
   "id": "5583aec4",
   "metadata": {
    "execution": {
     "iopub.execute_input": "2023-04-05T14:42:43.754913Z",
     "iopub.status.busy": "2023-04-05T14:42:43.754452Z",
     "iopub.status.idle": "2023-04-05T14:42:43.761529Z",
     "shell.execute_reply": "2023-04-05T14:42:43.760439Z"
    },
    "papermill": {
     "duration": 0.019735,
     "end_time": "2023-04-05T14:42:43.763930",
     "exception": false,
     "start_time": "2023-04-05T14:42:43.744195",
     "status": "completed"
    },
    "tags": []
   },
   "outputs": [
    {
     "data": {
      "text/plain": [
       "Index(['id', 'date', 'price', 'bedrooms', 'bathrooms', 'sqft_living',\n",
       "       'sqft_lot', 'floors', 'waterfront', 'view', 'condition', 'grade',\n",
       "       'sqft_above', 'sqft_basement', 'yr_built', 'yr_renovated', 'zipcode',\n",
       "       'lat', 'long', 'sqft_living15', 'sqft_lot15'],\n",
       "      dtype='object')"
      ]
     },
     "execution_count": 5,
     "metadata": {},
     "output_type": "execute_result"
    }
   ],
   "source": [
    "df.columns"
   ]
  },
  {
   "cell_type": "code",
   "execution_count": 6,
   "id": "11312d63",
   "metadata": {
    "execution": {
     "iopub.execute_input": "2023-04-05T14:42:43.784022Z",
     "iopub.status.busy": "2023-04-05T14:42:43.783564Z",
     "iopub.status.idle": "2023-04-05T14:42:43.790670Z",
     "shell.execute_reply": "2023-04-05T14:42:43.789771Z"
    },
    "papermill": {
     "duration": 0.019711,
     "end_time": "2023-04-05T14:42:43.792850",
     "exception": false,
     "start_time": "2023-04-05T14:42:43.773139",
     "status": "completed"
    },
    "tags": []
   },
   "outputs": [],
   "source": [
    "x_train = df['sqft_living'].values\n",
    "y_train = df['price'].values"
   ]
  },
  {
   "cell_type": "code",
   "execution_count": 7,
   "id": "f178c49b",
   "metadata": {
    "execution": {
     "iopub.execute_input": "2023-04-05T14:42:43.812924Z",
     "iopub.status.busy": "2023-04-05T14:42:43.812200Z",
     "iopub.status.idle": "2023-04-05T14:42:43.818242Z",
     "shell.execute_reply": "2023-04-05T14:42:43.816878Z"
    },
    "papermill": {
     "duration": 0.01891,
     "end_time": "2023-04-05T14:42:43.820747",
     "exception": false,
     "start_time": "2023-04-05T14:42:43.801837",
     "status": "completed"
    },
    "tags": []
   },
   "outputs": [
    {
     "name": "stdout",
     "output_type": "stream",
     "text": [
      "Type of x_train: <class 'numpy.ndarray'>\n",
      "First five elements of x_train are:\n",
      " [1180 2570  770 1960 1680]\n"
     ]
    }
   ],
   "source": [
    "# print x_train\n",
    "print(\"Type of x_train:\",type(x_train))\n",
    "print(\"First five elements of x_train are:\\n\", x_train[:5]) "
   ]
  },
  {
   "cell_type": "markdown",
   "id": "a4f73c9b",
   "metadata": {
    "papermill": {
     "duration": 0.008746,
     "end_time": "2023-04-05T14:42:43.839027",
     "exception": false,
     "start_time": "2023-04-05T14:42:43.830281",
     "status": "completed"
    },
    "tags": []
   },
   "source": [
    "`x_train` is a numpy array that contains decimal values that are all greater than zero.\n",
    "- These values represent the city population times 10,000\n",
    "- For example, 6.1101 means that the population for that city is 61,101\n",
    "  \n",
    "Now, let's print `y_train`"
   ]
  },
  {
   "cell_type": "code",
   "execution_count": 8,
   "id": "ca900c81",
   "metadata": {
    "execution": {
     "iopub.execute_input": "2023-04-05T14:42:43.859513Z",
     "iopub.status.busy": "2023-04-05T14:42:43.858611Z",
     "iopub.status.idle": "2023-04-05T14:42:43.865758Z",
     "shell.execute_reply": "2023-04-05T14:42:43.864433Z"
    },
    "papermill": {
     "duration": 0.020324,
     "end_time": "2023-04-05T14:42:43.868280",
     "exception": false,
     "start_time": "2023-04-05T14:42:43.847956",
     "status": "completed"
    },
    "tags": []
   },
   "outputs": [
    {
     "name": "stdout",
     "output_type": "stream",
     "text": [
      "Type of y_train: <class 'numpy.ndarray'>\n",
      "First five elements of y_train are:\n",
      " [221900. 538000. 180000. 604000. 510000.]\n"
     ]
    }
   ],
   "source": [
    "# print y_train\n",
    "print(\"Type of y_train:\",type(y_train))\n",
    "print(\"First five elements of y_train are:\\n\", y_train[:5])  "
   ]
  },
  {
   "cell_type": "markdown",
   "id": "e86bd01b",
   "metadata": {
    "papermill": {
     "duration": 0.008753,
     "end_time": "2023-04-05T14:42:43.886054",
     "exception": false,
     "start_time": "2023-04-05T14:42:43.877301",
     "status": "completed"
    },
    "tags": []
   },
   "source": [
    "Similarly, `y_train` is a numpy array that has decimal values, some negative, some positive.\n",
    "- These represent your restaurant's average monthly profits in each city, in units of \\$10,000.\n",
    "  - For example, 17.592 represents \\$175,920 in average monthly profits for that city.\n",
    "  - -2.6807 represents -\\$26,807 in average monthly loss for that city."
   ]
  },
  {
   "cell_type": "markdown",
   "id": "5986b644",
   "metadata": {
    "papermill": {
     "duration": 0.008635,
     "end_time": "2023-04-05T14:42:43.903824",
     "exception": false,
     "start_time": "2023-04-05T14:42:43.895189",
     "status": "completed"
    },
    "tags": []
   },
   "source": [
    "#### Check the dimensions of your variables\n",
    "\n",
    "Another useful way to get familiar with your data is to view its dimensions.\n",
    "\n",
    "Please print the shape of `x_train` and `y_train` and see how many training examples you have in your dataset."
   ]
  },
  {
   "cell_type": "code",
   "execution_count": 9,
   "id": "ac5b809a",
   "metadata": {
    "execution": {
     "iopub.execute_input": "2023-04-05T14:42:43.924388Z",
     "iopub.status.busy": "2023-04-05T14:42:43.923233Z",
     "iopub.status.idle": "2023-04-05T14:42:43.930110Z",
     "shell.execute_reply": "2023-04-05T14:42:43.928821Z"
    },
    "papermill": {
     "duration": 0.019625,
     "end_time": "2023-04-05T14:42:43.932445",
     "exception": false,
     "start_time": "2023-04-05T14:42:43.912820",
     "status": "completed"
    },
    "tags": []
   },
   "outputs": [
    {
     "name": "stdout",
     "output_type": "stream",
     "text": [
      "The shape of x_train is: (21613,)\n",
      "The shape of y_train is:  (21613,)\n",
      "Number of training examples (m): 21613\n"
     ]
    }
   ],
   "source": [
    "print ('The shape of x_train is:', x_train.shape)\n",
    "print ('The shape of y_train is: ', y_train.shape)\n",
    "print ('Number of training examples (m):', len(x_train))"
   ]
  },
  {
   "cell_type": "markdown",
   "id": "987be13b",
   "metadata": {
    "papermill": {
     "duration": 0.008791,
     "end_time": "2023-04-05T14:42:43.950261",
     "exception": false,
     "start_time": "2023-04-05T14:42:43.941470",
     "status": "completed"
    },
    "tags": []
   },
   "source": [
    "#### Visualize your data\n",
    "\n",
    "It is often useful to understand the data by visualizing it. \n",
    "- For this dataset, you can use a scatter plot to visualize the data, since it has only two properties to plot (profit and population). \n",
    "- Many other problems that you will encounter in real life have more than two properties (for example, population, average household income, monthly profits, monthly sales).When you have more than two properties, you can still use a scatter plot to see the relationship between each pair of properties.\n"
   ]
  },
  {
   "cell_type": "code",
   "execution_count": 10,
   "id": "2858a59b",
   "metadata": {
    "execution": {
     "iopub.execute_input": "2023-04-05T14:42:43.970930Z",
     "iopub.status.busy": "2023-04-05T14:42:43.969825Z",
     "iopub.status.idle": "2023-04-05T14:42:44.301438Z",
     "shell.execute_reply": "2023-04-05T14:42:44.300024Z"
    },
    "papermill": {
     "duration": 0.347048,
     "end_time": "2023-04-05T14:42:44.306458",
     "exception": false,
     "start_time": "2023-04-05T14:42:43.959410",
     "status": "completed"
    },
    "tags": []
   },
   "outputs": [
    {
     "data": {
      "image/png": "[encoded data removed]",
      "text/plain": [
       "<Figure size 640x480 with 1 Axes>"
      ]
     },
     "metadata": {},
     "output_type": "display_data"
    }
   ],
   "source": [
    "# Create a scatter plot of the data. To change the markers to red \"x\",\n",
    "# we used the 'marker' and 'c' parameters\n",
    "plt.scatter(x_train, y_train, marker='x', c='r') \n",
    "\n",
    "# Set the title\n",
    "plt.title(\"Price vs. squarefeet of livingroom\")\n",
    "# Set the y-axis label\n",
    "plt.ylabel('Price $10,000')\n",
    "# Set the x-axis label\n",
    "plt.xlabel('sqft_living')\n",
    "plt.show()"
   ]
  },
  {
   "cell_type": "markdown",
   "id": "fddd7ba8",
   "metadata": {
    "papermill": {
     "duration": 0.014318,
     "end_time": "2023-04-05T14:42:44.335609",
     "exception": false,
     "start_time": "2023-04-05T14:42:44.321291",
     "status": "completed"
    },
    "tags": []
   },
   "source": [
    "Your goal is to build a linear regression model to fit this data."
   ]
  },
  {
   "cell_type": "markdown",
   "id": "ceaed515",
   "metadata": {
    "papermill": {
     "duration": 0.011443,
     "end_time": "2023-04-05T14:42:44.361589",
     "exception": false,
     "start_time": "2023-04-05T14:42:44.350146",
     "status": "completed"
    },
    "tags": []
   },
   "source": [
    "<a name=\"4\"></a>\n",
    "## 4 - Refresher on linear regression\n",
    "\n",
    "In this practice lab, you will fit the linear regression parameters $(w,b)$ to your dataset.\n",
    "- The model function for linear regression, which is a function that maps from `x` (city population) to `y` (your restaurant's monthly profit for that city) is represented as \n",
    "    $$f_{w,b}(x) = wx + b$$\n",
    "    \n",
    "\n",
    "- To train a linear regression model, you want to find the best $(w,b)$ parameters that fit your dataset.  \n",
    "\n",
    "    - To compare how one choice of $(w,b)$ is better or worse than another choice, you can evaluate it with a cost function $J(w,b)$\n",
    "      - $J$ is a function of $(w,b)$. That is, the value of the cost $J(w,b)$ depends on the value of $(w,b)$.\n",
    "  \n",
    "    - The choice of $(w,b)$ that fits your data the best is the one that has the smallest cost $J(w,b)$.\n",
    "\n",
    "\n",
    "- To find the values $(w,b)$ that gets the smallest possible cost $J(w,b)$, you can use a method called **gradient descent**. \n",
    "  - With each step of gradient descent, your parameters $(w,b)$ come closer to the optimal values that will achieve the lowest cost $J(w,b)$.\n",
    "  \n",
    "\n",
    "- The trained linear regression model can then take the input feature $x$ (city population) and output a prediction $f_{w,b}(x)$ (predicted monthly profit for a restaurant in that city)."
   ]
  },
  {
   "cell_type": "markdown",
   "id": "f0b1425c",
   "metadata": {
    "papermill": {
     "duration": 0.009964,
     "end_time": "2023-04-05T14:42:44.381759",
     "exception": false,
     "start_time": "2023-04-05T14:42:44.371795",
     "status": "completed"
    },
    "tags": []
   },
   "source": [
    "<a name=\"5\"></a>\n",
    "## 5 - Compute Cost\n",
    "\n",
    "Gradient descent involves repeated steps to adjust the value of your parameter $(w,b)$ to gradually get a smaller and smaller cost $J(w,b)$.\n",
    "- At each step of gradient descent, it will be helpful for you to monitor your progress by computing the cost $J(w,b)$ as $(w,b)$ gets updated. \n",
    "- In this section, you will implement a function to calculate $J(w,b)$ so that you can check the progress of your gradient descent implementation.\n",
    "\n",
    "#### Cost function\n",
    "As you may recall from the lecture, for one variable, the cost function for linear regression $J(w,b)$ is defined as\n",
    "\n",
    "$$J(w,b) = \\frac{1}{2m} \\sum\\limits_{i = 0}^{m-1} (f_{w,b}(x^{(i)}) - y^{(i)})^2$$ \n",
    "\n",
    "- You can think of $f_{w,b}(x^{(i)})$ as the model's prediction of your restaurant's profit, as opposed to $y^{(i)}$, which is the actual profit that is recorded in the data.\n",
    "- $m$ is the number of training examples in the dataset\n",
    "\n",
    "#### Model prediction\n",
    "\n",
    "- For linear regression with one variable, the prediction of the model $f_{w,b}$ for an example $x^{(i)}$ is representented as:\n",
    "\n",
    "$$ f_{w,b}(x^{(i)}) = wx^{(i)} + b$$\n",
    "\n",
    "This is the equation for a line, with an intercept $b$ and a slope $w$\n",
    "\n",
    "#### Implementation\n",
    "\n",
    "Please complete the `compute_cost()` function below to compute the cost $J(w,b)$."
   ]
  },
  {
   "cell_type": "markdown",
   "id": "e2f630f1",
   "metadata": {
    "papermill": {
     "duration": 0.009835,
     "end_time": "2023-04-05T14:42:44.401619",
     "exception": false,
     "start_time": "2023-04-05T14:42:44.391784",
     "status": "completed"
    },
    "tags": []
   },
   "source": [
    "<a name=\"ex01\"></a>\n",
    "### Exercise 1\n",
    "\n",
    "Complete the `compute_cost` below to:\n",
    "\n",
    "* Iterate over the training examples, and for each example, compute:\n",
    "    * The prediction of the model for that example \n",
    "    $$\n",
    "    f_{wb}(x^{(i)}) =  wx^{(i)} + b \n",
    "    $$\n",
    "   \n",
    "    * The cost for that example  $$cost^{(i)} =  (f_{wb} - y^{(i)})^2$$\n",
    "    \n",
    "\n",
    "* Return the total cost over all examples\n",
    "$$J(\\mathbf{w},b) = \\frac{1}{2m} \\sum\\limits_{i = 0}^{m-1} cost^{(i)}$$\n",
    "  * Here, $m$ is the number of training examples and $\\sum$ is the summation operator\n",
    "\n",
    "If you get stuck, you can check out the hints presented after the cell below to help you with the implementation."
   ]
  },
  {
   "cell_type": "code",
   "execution_count": 11,
   "id": "a55568dd",
   "metadata": {
    "execution": {
     "iopub.execute_input": "2023-04-05T14:42:44.424767Z",
     "iopub.status.busy": "2023-04-05T14:42:44.423461Z",
     "iopub.status.idle": "2023-04-05T14:42:44.430135Z",
     "shell.execute_reply": "2023-04-05T14:42:44.429022Z"
    },
    "papermill": {
     "duration": 0.020661,
     "end_time": "2023-04-05T14:42:44.432492",
     "exception": false,
     "start_time": "2023-04-05T14:42:44.411831",
     "status": "completed"
    },
    "tags": []
   },
   "outputs": [],
   "source": [
    "def compute_cost(x,y,w,b):\n",
    "    return 1/(2*len(x)) * np.sum((w*x + b - y)**2)"
   ]
  },
  {
   "cell_type": "code",
   "execution_count": 12,
   "id": "bf86ba8e",
   "metadata": {
    "execution": {
     "iopub.execute_input": "2023-04-05T14:42:44.460028Z",
     "iopub.status.busy": "2023-04-05T14:42:44.458956Z",
     "iopub.status.idle": "2023-04-05T14:42:44.468123Z",
     "shell.execute_reply": "2023-04-05T14:42:44.466744Z"
    },
    "papermill": {
     "duration": 0.027361,
     "end_time": "2023-04-05T14:42:44.470519",
     "exception": false,
     "start_time": "2023-04-05T14:42:44.443158",
     "status": "completed"
    },
    "tags": []
   },
   "outputs": [
    {
     "name": "stdout",
     "output_type": "stream",
     "text": [
      "<class 'numpy.float64'>\n",
      "Cost at initial w: 210525407253.538\n"
     ]
    }
   ],
   "source": [
    "# Compute cost with some initial values for paramaters w, b\n",
    "initial_w = 2\n",
    "initial_b = 1\n",
    "\n",
    "cost = compute_cost(x_train, y_train, initial_w, initial_b)\n",
    "print(type(cost))\n",
    "print(f'Cost at initial w: {cost:.3f}')"
   ]
  },
  {
   "cell_type": "markdown",
   "id": "ea8b95b3",
   "metadata": {
    "papermill": {
     "duration": 0.011885,
     "end_time": "2023-04-05T14:42:44.493580",
     "exception": false,
     "start_time": "2023-04-05T14:42:44.481695",
     "status": "completed"
    },
    "tags": []
   },
   "source": [
    "<a name=\"6\"></a>\n",
    "## 6 - Gradient descent \n",
    "\n",
    "In this section, you will implement the gradient for parameters $w, b$ for linear regression. "
   ]
  },
  {
   "cell_type": "markdown",
   "id": "e7f43f44",
   "metadata": {
    "papermill": {
     "duration": 0.009815,
     "end_time": "2023-04-05T14:42:44.513612",
     "exception": false,
     "start_time": "2023-04-05T14:42:44.503797",
     "status": "completed"
    },
    "tags": []
   },
   "source": [
    "As described in the lecture videos, the gradient descent algorithm is:\n",
    "\n",
    "$$\\begin{align*}& \\text{repeat until convergence:} \\; \\lbrace \\newline \\; & \\phantom {0000} b := b -  \\alpha \\frac{\\partial J(w,b)}{\\partial b} \\newline       \\; & \\phantom {0000} w := w -  \\alpha \\frac{\\partial J(w,b)}{\\partial w} \\tag{1}  \\; & \n",
    "\\newline & \\rbrace\\end{align*}$$\n",
    "\n",
    "where, parameters $w, b$ are both updated simultaniously and where  \n",
    "$$\n",
    "\\frac{\\partial J(w,b)}{\\partial b}  = \\frac{1}{m} \\sum\\limits_{i = 0}^{m-1} (f_{w,b}(x^{(i)}) - y^{(i)}) \\tag{2}\n",
    "$$\n",
    "$$\n",
    "\\frac{\\partial J(w,b)}{\\partial w}  = \\frac{1}{m} \\sum\\limits_{i = 0}^{m-1} (f_{w,b}(x^{(i)}) -y^{(i)})x^{(i)} \\tag{3}\n",
    "$$\n",
    "* m is the number of training examples in the dataset\n",
    "\n",
    "    \n",
    "*  $f_{w,b}(x^{(i)})$ is the model's prediction, while $y^{(i)}$, is the target value\n",
    "\n",
    "\n",
    "You will implement a function called `compute_gradient` which calculates $\\frac{\\partial J(w)}{\\partial w}$, $\\frac{\\partial J(w)}{\\partial b}$ "
   ]
  },
  {
   "cell_type": "markdown",
   "id": "620404ce",
   "metadata": {
    "papermill": {
     "duration": 0.009811,
     "end_time": "2023-04-05T14:42:44.533731",
     "exception": false,
     "start_time": "2023-04-05T14:42:44.523920",
     "status": "completed"
    },
    "tags": []
   },
   "source": [
    "### Exercise 2\n",
    "\n",
    "Please complete the `compute_gradient` function to:\n",
    "\n",
    "* Iterate over the training examples, and for each example, compute:\n",
    "    * The prediction of the model for that example \n",
    "    $$\n",
    "    f_{wb}(x^{(i)}) =  wx^{(i)} + b \n",
    "    $$\n",
    "   \n",
    "    * The gradient for the parameters $w, b$ from that example \n",
    "        $$\n",
    "        \\frac{\\partial J(w,b)}{\\partial b}^{(i)}  =  (f_{w,b}(x^{(i)}) - y^{(i)}) \n",
    "        $$\n",
    "        $$\n",
    "        \\frac{\\partial J(w,b)}{\\partial w}^{(i)}  =  (f_{w,b}(x^{(i)}) -y^{(i)})x^{(i)} \n",
    "        $$\n",
    "    \n",
    "\n",
    "* Return the total gradient update from all the examples\n",
    "    $$\n",
    "    \\frac{\\partial J(w,b)}{\\partial b}  = \\frac{1}{m} \\sum\\limits_{i = 0}^{m-1} \\frac{\\partial J(w,b)}{\\partial b}^{(i)}\n",
    "    $$\n",
    "    \n",
    "    $$\n",
    "    \\frac{\\partial J(w,b)}{\\partial w}  = \\frac{1}{m} \\sum\\limits_{i = 0}^{m-1} \\frac{\\partial J(w,b)}{\\partial w}^{(i)} \n",
    "    $$\n",
    "  * Here, $m$ is the number of training examples and $\\sum$ is the summation operator\n",
    "\n",
    "If you get stuck, you can check out the hints presented after the cell below to help you with the implementation."
   ]
  },
  {
   "cell_type": "code",
   "execution_count": 13,
   "id": "03357617",
   "metadata": {
    "execution": {
     "iopub.execute_input": "2023-04-05T14:42:44.556639Z",
     "iopub.status.busy": "2023-04-05T14:42:44.555471Z",
     "iopub.status.idle": "2023-04-05T14:42:44.562748Z",
     "shell.execute_reply": "2023-04-05T14:42:44.561716Z"
    },
    "papermill": {
     "duration": 0.021377,
     "end_time": "2023-04-05T14:42:44.565228",
     "exception": false,
     "start_time": "2023-04-05T14:42:44.543851",
     "status": "completed"
    },
    "tags": []
   },
   "outputs": [],
   "source": [
    "def compute_gradient(x, y, w, b):\n",
    "    return 1/len(x) * np.sum((w*x + b - y)*x),1/len(x) * np.sum((w*x + b - y))"
   ]
  },
  {
   "cell_type": "code",
   "execution_count": 14,
   "id": "577e9ed8",
   "metadata": {
    "execution": {
     "iopub.execute_input": "2023-04-05T14:42:44.588652Z",
     "iopub.status.busy": "2023-04-05T14:42:44.587349Z",
     "iopub.status.idle": "2023-04-05T14:42:44.595741Z",
     "shell.execute_reply": "2023-04-05T14:42:44.594401Z"
    },
    "papermill": {
     "duration": 0.023038,
     "end_time": "2023-04-05T14:42:44.598249",
     "exception": false,
     "start_time": "2023-04-05T14:42:44.575211",
     "status": "completed"
    },
    "tags": []
   },
   "outputs": [
    {
     "name": "stdout",
     "output_type": "stream",
     "text": [
      "Gradient at initial w, b (zeros): -1360033662.4738815 -540088.1417665294\n"
     ]
    }
   ],
   "source": [
    "# Compute and display gradient with w initialized to zeroes\n",
    "initial_w = 0\n",
    "initial_b = 0\n",
    "\n",
    "tmp_dj_dw, tmp_dj_db = compute_gradient(x_train, y_train, initial_w, initial_b)\n",
    "print('Gradient at initial w, b (zeros):', tmp_dj_dw, tmp_dj_db)\n",
    "\n"
   ]
  },
  {
   "cell_type": "code",
   "execution_count": 15,
   "id": "692c609e",
   "metadata": {
    "execution": {
     "iopub.execute_input": "2023-04-05T14:42:44.621107Z",
     "iopub.status.busy": "2023-04-05T14:42:44.620565Z",
     "iopub.status.idle": "2023-04-05T14:42:44.629114Z",
     "shell.execute_reply": "2023-04-05T14:42:44.627772Z"
    },
    "papermill": {
     "duration": 0.023441,
     "end_time": "2023-04-05T14:42:44.631873",
     "exception": false,
     "start_time": "2023-04-05T14:42:44.608432",
     "status": "completed"
    },
    "tags": []
   },
   "outputs": [
    {
     "name": "stdout",
     "output_type": "stream",
     "text": [
      "Gradient at test w, b: -1358999350.9808729 -539671.9618192754\n"
     ]
    }
   ],
   "source": [
    "test_w = 0.2\n",
    "test_b = 0.2\n",
    "tmp_dj_dw, tmp_dj_db = compute_gradient(x_train, y_train, test_w, test_b)\n",
    "\n",
    "print('Gradient at test w, b:', tmp_dj_dw, tmp_dj_db)"
   ]
  },
  {
   "cell_type": "markdown",
   "id": "800ce494",
   "metadata": {
    "papermill": {
     "duration": 0.009962,
     "end_time": "2023-04-05T14:42:44.651882",
     "exception": false,
     "start_time": "2023-04-05T14:42:44.641920",
     "status": "completed"
    },
    "tags": []
   },
   "source": [
    "<a name=\"2.6\"></a>\n",
    "### 2.6 Learning parameters using batch gradient descent \n",
    "\n",
    "You will now find the optimal parameters of a linear regression model by using batch gradient descent. Recall batch refers to running all the examples in one iteration.\n",
    "- You don't need to implement anything for this part. Simply run the cells below. \n",
    "\n",
    "- A good way to verify that gradient descent is working correctly is to look\n",
    "at the value of $J(w,b)$ and check that it is decreasing with each step. \n",
    "\n",
    "- Assuming you have implemented the gradient and computed the cost correctly and you have an appropriate value for the learning rate alpha, $J(w,b)$ should never increase and should converge to a steady value by the end of the algorithm."
   ]
  },
  {
   "cell_type": "code",
   "execution_count": 16,
   "id": "382fbdd2",
   "metadata": {
    "execution": {
     "iopub.execute_input": "2023-04-05T14:42:44.675403Z",
     "iopub.status.busy": "2023-04-05T14:42:44.673976Z",
     "iopub.status.idle": "2023-04-05T14:42:44.687780Z",
     "shell.execute_reply": "2023-04-05T14:42:44.686530Z"
    },
    "papermill": {
     "duration": 0.028265,
     "end_time": "2023-04-05T14:42:44.690364",
     "exception": false,
     "start_time": "2023-04-05T14:42:44.662099",
     "status": "completed"
    },
    "tags": []
   },
   "outputs": [],
   "source": [
    "def gradient_descent(x, y, w_in, b_in, cost_function, gradient_function, alpha, num_iters): \n",
    "    \"\"\"\n",
    "    Performs batch gradient descent to learn theta. Updates theta by taking \n",
    "    num_iters gradient steps with learning rate alpha\n",
    "    \n",
    "    Args:\n",
    "      x :    (ndarray): Shape (m,)\n",
    "      y :    (ndarray): Shape (m,)\n",
    "      w_in, b_in : (scalar) Initial values of parameters of the model\n",
    "      cost_function: function to compute cost\n",
    "      gradient_function: function to compute the gradient\n",
    "      alpha : (float) Learning rate\n",
    "      num_iters : (int) number of iterations to run gradient descent\n",
    "    Returns\n",
    "      w : (ndarray): Shape (1,) Updated values of parameters of the model after\n",
    "          running gradient descent\n",
    "      b : (scalar)                Updated value of parameter of the model after\n",
    "          running gradient descent\n",
    "    \"\"\"\n",
    "    \n",
    "    # number of training examples\n",
    "    m = len(x)\n",
    "    \n",
    "    # An array to store cost J and w's at each iteration — primarily for graphing later\n",
    "    J_history = []\n",
    "    w_history = []\n",
    "    w = copy.deepcopy(w_in)  #avoid modifying global w within function\n",
    "    b = b_in\n",
    "    \n",
    "    for i in range(num_iters):\n",
    "\n",
    "        # Calculate the gradient and update the parameters\n",
    "        dj_dw, dj_db = gradient_function(x, y, w, b )  \n",
    "\n",
    "        # Update Parameters using w, b, alpha and gradient\n",
    "        w = w - alpha * dj_dw               \n",
    "        b = b - alpha * dj_db               \n",
    "\n",
    "        # Save cost J at each iteration\n",
    "        if i<100000:      # prevent resource exhaustion \n",
    "            cost =  cost_function(x, y, w, b)\n",
    "            J_history.append(cost)\n",
    "\n",
    "        # Print cost every at intervals 10 times or as many iterations if < 10\n",
    "        if i% math.ceil(num_iters/10) == 0:\n",
    "            w_history.append(w)\n",
    "            print(f\"Iteration {i:4}: Cost {float(J_history[-1]):8.2f}   \")\n",
    "        \n",
    "    return w, b, J_history, w_history #return w and J,w history for graphing"
   ]
  },
  {
   "cell_type": "code",
   "execution_count": 17,
   "id": "4891ab6d",
   "metadata": {
    "execution": {
     "iopub.execute_input": "2023-04-05T14:42:44.712824Z",
     "iopub.status.busy": "2023-04-05T14:42:44.712351Z",
     "iopub.status.idle": "2023-04-05T14:42:44.760881Z",
     "shell.execute_reply": "2023-04-05T14:42:44.759481Z"
    },
    "papermill": {
     "duration": 0.064175,
     "end_time": "2023-04-05T14:42:44.764752",
     "exception": false,
     "start_time": "2023-04-05T14:42:44.700577",
     "status": "completed"
    },
    "tags": []
   },
   "outputs": [
    {
     "name": "stdout",
     "output_type": "stream",
     "text": [
      "Iteration    0: Cost 3144514863554.01   \n",
      "Iteration   15: Cost 12451967440822267268371700514816.00   \n",
      "Iteration   30: Cost 49852831785846171025705639935090419359614735745024.00   \n",
      "Iteration   45: Cost 199591337584140199032849492216426344624662954603174011110268329787392.00   \n",
      "Iteration   60: Cost 799086042087909852308705269337628911308612722796931455950561061593466202772249375670272.00   \n",
      "Iteration   75: Cost 3199229537657347682458740416772190690345286622223165721258918441393900170647764540603247695289536777027584.00   \n",
      "Iteration   90: Cost 12808470046449987595039194507373558961884467364792117517825520841400698623993993444350579117503330573427691379950118594674688.00   \n",
      "Iteration  105: Cost 51280129481093010033205660216356705870696385022110152628820595222852081853754289583498456877975302345429511447017508161020250721818759007305728.00   \n",
      "Iteration  120: Cost 205305682104203142385593068868112682120721655841257690020112690069007591803183890038526333521916208485615000389831181877399257718591807376163478896410007990960128.00   \n",
      "Iteration  135: Cost 821964053733775172437505530938739818460878288349460884714660631082605382681775817153747682465815700309191799219652448810172489846991990849104745401074103194717498245922053467144192.00   \n",
      "w,b found by gradient descent: -2.706214472442937e+95 -1.0888247166326603e+92\n"
     ]
    }
   ],
   "source": [
    "# initialize fitting parameters. Recall that the shape of w is (n,)\n",
    "initial_w = 0.\n",
    "initial_b = 0.\n",
    "\n",
    "# some gradient descent settings\n",
    "iterations = 150\n",
    "alpha = 0.000001\n",
    "\n",
    "w,b,_,_ = gradient_descent(x_train ,y_train, initial_w, initial_b, \n",
    "                     compute_cost, compute_gradient, alpha, iterations)\n",
    "print(\"w,b found by gradient descent:\", w, b)"
   ]
  },
  {
   "cell_type": "markdown",
   "id": "daef258c",
   "metadata": {
    "papermill": {
     "duration": 0.010529,
     "end_time": "2023-04-05T14:42:44.791447",
     "exception": false,
     "start_time": "2023-04-05T14:42:44.780918",
     "status": "completed"
    },
    "tags": []
   },
   "source": [
    "We will now use the final parameters from gradient descent to plot the linear fit. \n",
    "\n",
    "Recall that we can get the prediction for a single example $f(x^{(i)})= wx^{(i)}+b$. \n",
    "\n",
    "To calculate the predictions on the entire dataset, we can loop through all the training examples and calculate the prediction for each example. This is shown in the code block below."
   ]
  },
  {
   "cell_type": "code",
   "execution_count": 18,
   "id": "2af180b3",
   "metadata": {
    "execution": {
     "iopub.execute_input": "2023-04-05T14:42:44.813798Z",
     "iopub.status.busy": "2023-04-05T14:42:44.812948Z",
     "iopub.status.idle": "2023-04-05T14:42:44.829437Z",
     "shell.execute_reply": "2023-04-05T14:42:44.828504Z"
    },
    "papermill": {
     "duration": 0.031067,
     "end_time": "2023-04-05T14:42:44.832560",
     "exception": false,
     "start_time": "2023-04-05T14:42:44.801493",
     "status": "completed"
    },
    "tags": []
   },
   "outputs": [],
   "source": [
    "m = x_train.shape[0]\n",
    "predicted = np.zeros(m)\n",
    "\n",
    "for i in range(m):\n",
    "    predicted[i] = w * x_train[i] + b"
   ]
  },
  {
   "cell_type": "code",
   "execution_count": 19,
   "id": "878e19c9",
   "metadata": {
    "execution": {
     "iopub.execute_input": "2023-04-05T14:42:44.859287Z",
     "iopub.status.busy": "2023-04-05T14:42:44.858354Z",
     "iopub.status.idle": "2023-04-05T14:42:45.163243Z",
     "shell.execute_reply": "2023-04-05T14:42:45.161766Z"
    },
    "papermill": {
     "duration": 0.319323,
     "end_time": "2023-04-05T14:42:45.166310",
     "exception": false,
     "start_time": "2023-04-05T14:42:44.846987",
     "status": "completed"
    },
    "tags": []
   },
   "outputs": [
    {
     "data": {
      "text/plain": [
       "Text(0.5, 0, 'Population of City in 10,000s')"
      ]
     },
     "execution_count": 19,
     "metadata": {},
     "output_type": "execute_result"
    },
    {
     "data": {
      "image/png": "[encoded data removed]",
      "text/plain": [
       "<Figure size 640x480 with 1 Axes>"
      ]
     },
     "metadata": {},
     "output_type": "display_data"
    }
   ],
   "source": [
    "# Plot the linear fit\n",
    "plt.plot(x_train, predicted, c = \"b\")\n",
    "\n",
    "# Create a scatter plot of the data. \n",
    "plt.scatter(x_train, y_train, marker='x', c='r') \n",
    "\n",
    "# Set the title\n",
    "plt.title(\"Profits vs. Population per city\")\n",
    "# Set the y-axis label\n",
    "plt.ylabel('Profit in $10,000')\n",
    "# Set the x-axis label\n",
    "plt.xlabel('Population of City in 10,000s')"
   ]
  },
  {
   "cell_type": "code",
   "execution_count": 20,
   "id": "3169baff",
   "metadata": {
    "execution": {
     "iopub.execute_input": "2023-04-05T14:42:45.191050Z",
     "iopub.status.busy": "2023-04-05T14:42:45.189847Z",
     "iopub.status.idle": "2023-04-05T14:42:45.197670Z",
     "shell.execute_reply": "2023-04-05T14:42:45.196249Z"
    },
    "papermill": {
     "duration": 0.022867,
     "end_time": "2023-04-05T14:42:45.200450",
     "exception": false,
     "start_time": "2023-04-05T14:42:45.177583",
     "status": "completed"
    },
    "tags": []
   },
   "outputs": [
    {
     "name": "stdout",
     "output_type": "stream",
     "text": [
      "For population = 35,000, we predict a profit of $-9472839478266912729294922451746476781569784283253620192831202410748003364290756219600426366398365696.00\n",
      "For population = 70,000, we predict a profit of $-18944590131817193347386507432326967437893236248644015806709016716204670675470994701598955778470838272.00\n"
     ]
    }
   ],
   "source": [
    "predict1 = 3.5 * w + b\n",
    "print('For population = 35,000, we predict a profit of $%.2f' % (predict1*10000))\n",
    "\n",
    "predict2 = 7.0 * w + b\n",
    "print('For population = 70,000, we predict a profit of $%.2f' % (predict2*10000))"
   ]
  },
  {
   "cell_type": "markdown",
   "id": "b236ed75",
   "metadata": {
    "papermill": {
     "duration": 0.010545,
     "end_time": "2023-04-05T14:42:45.221945",
     "exception": false,
     "start_time": "2023-04-05T14:42:45.211400",
     "status": "completed"
    },
    "tags": []
   },
   "source": [
    "its seems a failure :(. I'll come back here in future. with logistick regresions"
   ]
  }
 ],
 "metadata": {
  "kernelspec": {
   "display_name": "Python 3",
   "language": "python",
   "name": "python3"
  },
  "language_info": {
   "codemirror_mode": {
    "name": "ipython",
    "version": 3
   },
   "file_extension": ".py",
   "mimetype": "text/x-python",
   "name": "python",
   "nbconvert_exporter": "python",
   "pygments_lexer": "ipython3",
   "version": "3.7.12"
  },
  "papermill": {
   "default_parameters": {},
   "duration": 13.111201,
   "end_time": "2023-04-05T14:42:45.956290",
   "environment_variables": {},
   "exception": null,
   "input_path": "__notebook__.ipynb",
   "output_path": "__notebook__.ipynb",
   "parameters": {},
   "start_time": "2023-04-05T14:42:32.845089",
   "version": "2.4.0"
  }
 },
 "nbformat": 4,
 "nbformat_minor": 5
}
